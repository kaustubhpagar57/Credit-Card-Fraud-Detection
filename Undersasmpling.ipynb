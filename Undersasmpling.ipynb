{
 "cells": [
  {
   "cell_type": "code",
   "execution_count": 1,
   "metadata": {},
   "outputs": [],
   "source": [
    "import numpy as np\n",
    "import pandas as pd\n",
    "import matplotlib.pyplot as plt\n",
    "import plotly.express as px\n",
    "import plotly.graph_objects as go\n",
    "from matplotlib import gridspec\n",
    "import seaborn as sns\n",
    "\n",
    "import tensorflow as tf\n",
    "from tensorflow.keras import layers,models,datasets\n",
    "from tensorflow.keras.optimizers import Adam\n",
    "\n",
    "\n",
    "import time\n",
    "import timeit\n",
    "import warnings\n",
    "warnings.filterwarnings(\"ignore\") \n",
    "\n",
    "\n",
    "%matplotlib inline\n",
    "plt.style.use('seaborn-darkgrid')\n",
    "sns.set_theme(context = 'notebook', style='darkgrid',palette='dark')\n",
    "plt.rc('figure', figsize=(16,10))\n",
    "plt.rc('lines', markersize=4)"
   ]
  },
  {
   "cell_type": "code",
   "execution_count": 144,
   "metadata": {},
   "outputs": [],
   "source": [
    "from sklearn.ensemble import RandomForestClassifier\n",
    "from sklearn.ensemble import AdaBoostClassifier\n",
    "from sklearn.ensemble import GradientBoostingClassifier\n",
    "from sklearn.tree import DecisionTreeClassifier\n",
    "from sklearn.svm import SVC\n",
    "from sklearn.neighbors import KNeighborsClassifier\n",
    "from sklearn.naive_bayes import GaussianNB\n",
    "from sklearn.naive_bayes import ComplementNB, CategoricalNB\n",
    "import xgboost\n",
    "from lightgbm import LGBMClassifier\n",
    "\n",
    "from sklearn.metrics import accuracy_score, precision_score, confusion_matrix, recall_score, f1_score\n",
    "from sklearn.metrics import PrecisionRecallDisplay\n",
    "from sklearn.model_selection import GridSearchCV\n",
    "\n",
    "from imblearn.over_sampling import RandomOverSampler\n",
    "from imblearn.under_sampling import RandomUnderSampler\n",
    "from collections import Counter\n",
    "\n",
    "\n"
   ]
  },
  {
   "cell_type": "code",
   "execution_count": 3,
   "metadata": {},
   "outputs": [],
   "source": [
    "df = pd.read_csv('../creditcard.csv')"
   ]
  },
  {
   "cell_type": "code",
   "execution_count": 4,
   "metadata": {},
   "outputs": [
    {
     "data": {
      "text/html": [
       "<div>\n",
       "<style scoped>\n",
       "    .dataframe tbody tr th:only-of-type {\n",
       "        vertical-align: middle;\n",
       "    }\n",
       "\n",
       "    .dataframe tbody tr th {\n",
       "        vertical-align: top;\n",
       "    }\n",
       "\n",
       "    .dataframe thead th {\n",
       "        text-align: right;\n",
       "    }\n",
       "</style>\n",
       "<table border=\"1\" class=\"dataframe\">\n",
       "  <thead>\n",
       "    <tr style=\"text-align: right;\">\n",
       "      <th></th>\n",
       "      <th>Time</th>\n",
       "      <th>V1</th>\n",
       "      <th>V2</th>\n",
       "      <th>V3</th>\n",
       "      <th>V4</th>\n",
       "      <th>V5</th>\n",
       "      <th>V6</th>\n",
       "      <th>V7</th>\n",
       "      <th>V8</th>\n",
       "      <th>V9</th>\n",
       "      <th>...</th>\n",
       "      <th>V21</th>\n",
       "      <th>V22</th>\n",
       "      <th>V23</th>\n",
       "      <th>V24</th>\n",
       "      <th>V25</th>\n",
       "      <th>V26</th>\n",
       "      <th>V27</th>\n",
       "      <th>V28</th>\n",
       "      <th>Amount</th>\n",
       "      <th>Class</th>\n",
       "    </tr>\n",
       "  </thead>\n",
       "  <tbody>\n",
       "    <tr>\n",
       "      <th>0</th>\n",
       "      <td>0.0</td>\n",
       "      <td>-1.359807</td>\n",
       "      <td>-0.072781</td>\n",
       "      <td>2.536347</td>\n",
       "      <td>1.378155</td>\n",
       "      <td>-0.338321</td>\n",
       "      <td>0.462388</td>\n",
       "      <td>0.239599</td>\n",
       "      <td>0.098698</td>\n",
       "      <td>0.363787</td>\n",
       "      <td>...</td>\n",
       "      <td>-0.018307</td>\n",
       "      <td>0.277838</td>\n",
       "      <td>-0.110474</td>\n",
       "      <td>0.066928</td>\n",
       "      <td>0.128539</td>\n",
       "      <td>-0.189115</td>\n",
       "      <td>0.133558</td>\n",
       "      <td>-0.021053</td>\n",
       "      <td>149.62</td>\n",
       "      <td>0</td>\n",
       "    </tr>\n",
       "    <tr>\n",
       "      <th>1</th>\n",
       "      <td>0.0</td>\n",
       "      <td>1.191857</td>\n",
       "      <td>0.266151</td>\n",
       "      <td>0.166480</td>\n",
       "      <td>0.448154</td>\n",
       "      <td>0.060018</td>\n",
       "      <td>-0.082361</td>\n",
       "      <td>-0.078803</td>\n",
       "      <td>0.085102</td>\n",
       "      <td>-0.255425</td>\n",
       "      <td>...</td>\n",
       "      <td>-0.225775</td>\n",
       "      <td>-0.638672</td>\n",
       "      <td>0.101288</td>\n",
       "      <td>-0.339846</td>\n",
       "      <td>0.167170</td>\n",
       "      <td>0.125895</td>\n",
       "      <td>-0.008983</td>\n",
       "      <td>0.014724</td>\n",
       "      <td>2.69</td>\n",
       "      <td>0</td>\n",
       "    </tr>\n",
       "    <tr>\n",
       "      <th>2</th>\n",
       "      <td>1.0</td>\n",
       "      <td>-1.358354</td>\n",
       "      <td>-1.340163</td>\n",
       "      <td>1.773209</td>\n",
       "      <td>0.379780</td>\n",
       "      <td>-0.503198</td>\n",
       "      <td>1.800499</td>\n",
       "      <td>0.791461</td>\n",
       "      <td>0.247676</td>\n",
       "      <td>-1.514654</td>\n",
       "      <td>...</td>\n",
       "      <td>0.247998</td>\n",
       "      <td>0.771679</td>\n",
       "      <td>0.909412</td>\n",
       "      <td>-0.689281</td>\n",
       "      <td>-0.327642</td>\n",
       "      <td>-0.139097</td>\n",
       "      <td>-0.055353</td>\n",
       "      <td>-0.059752</td>\n",
       "      <td>378.66</td>\n",
       "      <td>0</td>\n",
       "    </tr>\n",
       "    <tr>\n",
       "      <th>3</th>\n",
       "      <td>1.0</td>\n",
       "      <td>-0.966272</td>\n",
       "      <td>-0.185226</td>\n",
       "      <td>1.792993</td>\n",
       "      <td>-0.863291</td>\n",
       "      <td>-0.010309</td>\n",
       "      <td>1.247203</td>\n",
       "      <td>0.237609</td>\n",
       "      <td>0.377436</td>\n",
       "      <td>-1.387024</td>\n",
       "      <td>...</td>\n",
       "      <td>-0.108300</td>\n",
       "      <td>0.005274</td>\n",
       "      <td>-0.190321</td>\n",
       "      <td>-1.175575</td>\n",
       "      <td>0.647376</td>\n",
       "      <td>-0.221929</td>\n",
       "      <td>0.062723</td>\n",
       "      <td>0.061458</td>\n",
       "      <td>123.50</td>\n",
       "      <td>0</td>\n",
       "    </tr>\n",
       "    <tr>\n",
       "      <th>4</th>\n",
       "      <td>2.0</td>\n",
       "      <td>-1.158233</td>\n",
       "      <td>0.877737</td>\n",
       "      <td>1.548718</td>\n",
       "      <td>0.403034</td>\n",
       "      <td>-0.407193</td>\n",
       "      <td>0.095921</td>\n",
       "      <td>0.592941</td>\n",
       "      <td>-0.270533</td>\n",
       "      <td>0.817739</td>\n",
       "      <td>...</td>\n",
       "      <td>-0.009431</td>\n",
       "      <td>0.798278</td>\n",
       "      <td>-0.137458</td>\n",
       "      <td>0.141267</td>\n",
       "      <td>-0.206010</td>\n",
       "      <td>0.502292</td>\n",
       "      <td>0.219422</td>\n",
       "      <td>0.215153</td>\n",
       "      <td>69.99</td>\n",
       "      <td>0</td>\n",
       "    </tr>\n",
       "  </tbody>\n",
       "</table>\n",
       "<p>5 rows × 31 columns</p>\n",
       "</div>"
      ],
      "text/plain": [
       "   Time        V1        V2        V3        V4        V5        V6        V7  \\\n",
       "0   0.0 -1.359807 -0.072781  2.536347  1.378155 -0.338321  0.462388  0.239599   \n",
       "1   0.0  1.191857  0.266151  0.166480  0.448154  0.060018 -0.082361 -0.078803   \n",
       "2   1.0 -1.358354 -1.340163  1.773209  0.379780 -0.503198  1.800499  0.791461   \n",
       "3   1.0 -0.966272 -0.185226  1.792993 -0.863291 -0.010309  1.247203  0.237609   \n",
       "4   2.0 -1.158233  0.877737  1.548718  0.403034 -0.407193  0.095921  0.592941   \n",
       "\n",
       "         V8        V9  ...       V21       V22       V23       V24       V25  \\\n",
       "0  0.098698  0.363787  ... -0.018307  0.277838 -0.110474  0.066928  0.128539   \n",
       "1  0.085102 -0.255425  ... -0.225775 -0.638672  0.101288 -0.339846  0.167170   \n",
       "2  0.247676 -1.514654  ...  0.247998  0.771679  0.909412 -0.689281 -0.327642   \n",
       "3  0.377436 -1.387024  ... -0.108300  0.005274 -0.190321 -1.175575  0.647376   \n",
       "4 -0.270533  0.817739  ... -0.009431  0.798278 -0.137458  0.141267 -0.206010   \n",
       "\n",
       "        V26       V27       V28  Amount  Class  \n",
       "0 -0.189115  0.133558 -0.021053  149.62      0  \n",
       "1  0.125895 -0.008983  0.014724    2.69      0  \n",
       "2 -0.139097 -0.055353 -0.059752  378.66      0  \n",
       "3 -0.221929  0.062723  0.061458  123.50      0  \n",
       "4  0.502292  0.219422  0.215153   69.99      0  \n",
       "\n",
       "[5 rows x 31 columns]"
      ]
     },
     "execution_count": 4,
     "metadata": {},
     "output_type": "execute_result"
    }
   ],
   "source": [
    "df.head()"
   ]
  },
  {
   "cell_type": "code",
   "execution_count": 5,
   "metadata": {},
   "outputs": [
    {
     "data": {
      "text/plain": [
       "Index(['Time', 'V1', 'V2', 'V3', 'V4', 'V5', 'V6', 'V7', 'V8', 'V9', 'V10',\n",
       "       'V11', 'V12', 'V13', 'V14', 'V15', 'V16', 'V17', 'V18', 'V19', 'V20',\n",
       "       'V21', 'V22', 'V23', 'V24', 'V25', 'V26', 'V27', 'V28', 'Amount',\n",
       "       'Class'],\n",
       "      dtype='object')"
      ]
     },
     "execution_count": 5,
     "metadata": {},
     "output_type": "execute_result"
    }
   ],
   "source": [
    "df.columns"
   ]
  },
  {
   "cell_type": "code",
   "execution_count": 6,
   "metadata": {},
   "outputs": [],
   "source": [
    "col_name = ['Time', 'V1', 'V2', 'V3', 'V4', 'V5', 'V6', 'V7', 'V8', 'V9', 'V10',\n",
    "       'V11', 'V12', 'V13', 'V14', 'V15', 'V16', 'V17', 'V18', 'V19', 'V20',\n",
    "       'V21', 'V22', 'V23', 'V24', 'V25', 'V26', 'V27', 'V28', 'Amount',\n",
    "       'Class']"
   ]
  },
  {
   "cell_type": "code",
   "execution_count": 7,
   "metadata": {},
   "outputs": [
    {
     "data": {
      "text/plain": [
       "[284315, 492]"
      ]
     },
     "execution_count": 7,
     "metadata": {},
     "output_type": "execute_result"
    }
   ],
   "source": [
    "y = list(df.groupby(['Class'])['Class'].count())\n",
    "y"
   ]
  },
  {
   "cell_type": "code",
   "execution_count": 8,
   "metadata": {},
   "outputs": [
    {
     "data": {
      "text/plain": [
       "{0: 0.5008652375006595, 1: 289.4380081300813}"
      ]
     },
     "execution_count": 8,
     "metadata": {},
     "output_type": "execute_result"
    }
   ],
   "source": [
    "total = y[0] + y[1]\n",
    "w0 = total/(2 * y[0])\n",
    "w1 = total/(2 * y[1])\n",
    "\n",
    "class_weights = {0: w0, 1:w1}\n",
    "class_weights"
   ]
  },
  {
   "cell_type": "code",
   "execution_count": 9,
   "metadata": {
    "scrolled": true
   },
   "outputs": [
    {
     "data": {
      "text/html": [
       "<div>\n",
       "<style scoped>\n",
       "    .dataframe tbody tr th:only-of-type {\n",
       "        vertical-align: middle;\n",
       "    }\n",
       "\n",
       "    .dataframe tbody tr th {\n",
       "        vertical-align: top;\n",
       "    }\n",
       "\n",
       "    .dataframe thead th {\n",
       "        text-align: right;\n",
       "    }\n",
       "</style>\n",
       "<table border=\"1\" class=\"dataframe\">\n",
       "  <thead>\n",
       "    <tr style=\"text-align: right;\">\n",
       "      <th></th>\n",
       "      <th>V1</th>\n",
       "      <th>V2</th>\n",
       "      <th>V3</th>\n",
       "      <th>V4</th>\n",
       "      <th>V5</th>\n",
       "      <th>V6</th>\n",
       "      <th>V7</th>\n",
       "      <th>V8</th>\n",
       "      <th>V9</th>\n",
       "      <th>V10</th>\n",
       "      <th>...</th>\n",
       "      <th>V22</th>\n",
       "      <th>V23</th>\n",
       "      <th>V24</th>\n",
       "      <th>V25</th>\n",
       "      <th>V26</th>\n",
       "      <th>V27</th>\n",
       "      <th>V28</th>\n",
       "      <th>Class</th>\n",
       "      <th>Amount</th>\n",
       "      <th>Time</th>\n",
       "    </tr>\n",
       "  </thead>\n",
       "  <tbody>\n",
       "    <tr>\n",
       "      <th>0</th>\n",
       "      <td>-1.359807</td>\n",
       "      <td>-0.072781</td>\n",
       "      <td>2.536347</td>\n",
       "      <td>1.378155</td>\n",
       "      <td>-0.338321</td>\n",
       "      <td>0.462388</td>\n",
       "      <td>0.239599</td>\n",
       "      <td>0.098698</td>\n",
       "      <td>0.363787</td>\n",
       "      <td>0.090794</td>\n",
       "      <td>...</td>\n",
       "      <td>0.277838</td>\n",
       "      <td>-0.110474</td>\n",
       "      <td>0.066928</td>\n",
       "      <td>0.128539</td>\n",
       "      <td>-0.189115</td>\n",
       "      <td>0.133558</td>\n",
       "      <td>-0.021053</td>\n",
       "      <td>0</td>\n",
       "      <td>1.783274</td>\n",
       "      <td>-0.994983</td>\n",
       "    </tr>\n",
       "    <tr>\n",
       "      <th>1</th>\n",
       "      <td>1.191857</td>\n",
       "      <td>0.266151</td>\n",
       "      <td>0.166480</td>\n",
       "      <td>0.448154</td>\n",
       "      <td>0.060018</td>\n",
       "      <td>-0.082361</td>\n",
       "      <td>-0.078803</td>\n",
       "      <td>0.085102</td>\n",
       "      <td>-0.255425</td>\n",
       "      <td>-0.166974</td>\n",
       "      <td>...</td>\n",
       "      <td>-0.638672</td>\n",
       "      <td>0.101288</td>\n",
       "      <td>-0.339846</td>\n",
       "      <td>0.167170</td>\n",
       "      <td>0.125895</td>\n",
       "      <td>-0.008983</td>\n",
       "      <td>0.014724</td>\n",
       "      <td>0</td>\n",
       "      <td>-0.269825</td>\n",
       "      <td>-0.994983</td>\n",
       "    </tr>\n",
       "    <tr>\n",
       "      <th>2</th>\n",
       "      <td>-1.358354</td>\n",
       "      <td>-1.340163</td>\n",
       "      <td>1.773209</td>\n",
       "      <td>0.379780</td>\n",
       "      <td>-0.503198</td>\n",
       "      <td>1.800499</td>\n",
       "      <td>0.791461</td>\n",
       "      <td>0.247676</td>\n",
       "      <td>-1.514654</td>\n",
       "      <td>0.207643</td>\n",
       "      <td>...</td>\n",
       "      <td>0.771679</td>\n",
       "      <td>0.909412</td>\n",
       "      <td>-0.689281</td>\n",
       "      <td>-0.327642</td>\n",
       "      <td>-0.139097</td>\n",
       "      <td>-0.055353</td>\n",
       "      <td>-0.059752</td>\n",
       "      <td>0</td>\n",
       "      <td>4.983721</td>\n",
       "      <td>-0.994972</td>\n",
       "    </tr>\n",
       "    <tr>\n",
       "      <th>3</th>\n",
       "      <td>-0.966272</td>\n",
       "      <td>-0.185226</td>\n",
       "      <td>1.792993</td>\n",
       "      <td>-0.863291</td>\n",
       "      <td>-0.010309</td>\n",
       "      <td>1.247203</td>\n",
       "      <td>0.237609</td>\n",
       "      <td>0.377436</td>\n",
       "      <td>-1.387024</td>\n",
       "      <td>-0.054952</td>\n",
       "      <td>...</td>\n",
       "      <td>0.005274</td>\n",
       "      <td>-0.190321</td>\n",
       "      <td>-1.175575</td>\n",
       "      <td>0.647376</td>\n",
       "      <td>-0.221929</td>\n",
       "      <td>0.062723</td>\n",
       "      <td>0.061458</td>\n",
       "      <td>0</td>\n",
       "      <td>1.418291</td>\n",
       "      <td>-0.994972</td>\n",
       "    </tr>\n",
       "    <tr>\n",
       "      <th>4</th>\n",
       "      <td>-1.158233</td>\n",
       "      <td>0.877737</td>\n",
       "      <td>1.548718</td>\n",
       "      <td>0.403034</td>\n",
       "      <td>-0.407193</td>\n",
       "      <td>0.095921</td>\n",
       "      <td>0.592941</td>\n",
       "      <td>-0.270533</td>\n",
       "      <td>0.817739</td>\n",
       "      <td>0.753074</td>\n",
       "      <td>...</td>\n",
       "      <td>0.798278</td>\n",
       "      <td>-0.137458</td>\n",
       "      <td>0.141267</td>\n",
       "      <td>-0.206010</td>\n",
       "      <td>0.502292</td>\n",
       "      <td>0.219422</td>\n",
       "      <td>0.215153</td>\n",
       "      <td>0</td>\n",
       "      <td>0.670579</td>\n",
       "      <td>-0.994960</td>\n",
       "    </tr>\n",
       "  </tbody>\n",
       "</table>\n",
       "<p>5 rows × 31 columns</p>\n",
       "</div>"
      ],
      "text/plain": [
       "         V1        V2        V3        V4        V5        V6        V7  \\\n",
       "0 -1.359807 -0.072781  2.536347  1.378155 -0.338321  0.462388  0.239599   \n",
       "1  1.191857  0.266151  0.166480  0.448154  0.060018 -0.082361 -0.078803   \n",
       "2 -1.358354 -1.340163  1.773209  0.379780 -0.503198  1.800499  0.791461   \n",
       "3 -0.966272 -0.185226  1.792993 -0.863291 -0.010309  1.247203  0.237609   \n",
       "4 -1.158233  0.877737  1.548718  0.403034 -0.407193  0.095921  0.592941   \n",
       "\n",
       "         V8        V9       V10  ...       V22       V23       V24       V25  \\\n",
       "0  0.098698  0.363787  0.090794  ...  0.277838 -0.110474  0.066928  0.128539   \n",
       "1  0.085102 -0.255425 -0.166974  ... -0.638672  0.101288 -0.339846  0.167170   \n",
       "2  0.247676 -1.514654  0.207643  ...  0.771679  0.909412 -0.689281 -0.327642   \n",
       "3  0.377436 -1.387024 -0.054952  ...  0.005274 -0.190321 -1.175575  0.647376   \n",
       "4 -0.270533  0.817739  0.753074  ...  0.798278 -0.137458  0.141267 -0.206010   \n",
       "\n",
       "        V26       V27       V28  Class    Amount      Time  \n",
       "0 -0.189115  0.133558 -0.021053      0  1.783274 -0.994983  \n",
       "1  0.125895 -0.008983  0.014724      0 -0.269825 -0.994983  \n",
       "2 -0.139097 -0.055353 -0.059752      0  4.983721 -0.994972  \n",
       "3 -0.221929  0.062723  0.061458      0  1.418291 -0.994972  \n",
       "4  0.502292  0.219422  0.215153      0  0.670579 -0.994960  \n",
       "\n",
       "[5 rows x 31 columns]"
      ]
     },
     "execution_count": 9,
     "metadata": {},
     "output_type": "execute_result"
    }
   ],
   "source": [
    "#We will use Robust Scaler as it is less prone to outliers\n",
    "from sklearn.preprocessing import RobustScaler\n",
    "robust = RobustScaler()\n",
    "\n",
    "df['Amount_Scaled'] = robust.fit_transform(df['Amount'].values.reshape(-1,1))\n",
    "df['Time_Scaled'] = robust.fit_transform(df['Time'].values.reshape(-1,1))\n",
    "\n",
    "df.drop(['Time','Amount'], axis=1, inplace=True)\n",
    "df.rename(columns = {'Amount_Scaled':'Amount', 'Time_Scaled':'Time'}, inplace = True)\n",
    "\n",
    "\n",
    "df.head()\n"
   ]
  },
  {
   "cell_type": "code",
   "execution_count": 10,
   "metadata": {},
   "outputs": [
    {
     "data": {
      "text/html": [
       "<div>\n",
       "<style scoped>\n",
       "    .dataframe tbody tr th:only-of-type {\n",
       "        vertical-align: middle;\n",
       "    }\n",
       "\n",
       "    .dataframe tbody tr th {\n",
       "        vertical-align: top;\n",
       "    }\n",
       "\n",
       "    .dataframe thead th {\n",
       "        text-align: right;\n",
       "    }\n",
       "</style>\n",
       "<table border=\"1\" class=\"dataframe\">\n",
       "  <thead>\n",
       "    <tr style=\"text-align: right;\">\n",
       "      <th></th>\n",
       "      <th>V1</th>\n",
       "      <th>V2</th>\n",
       "      <th>V3</th>\n",
       "      <th>V4</th>\n",
       "      <th>V5</th>\n",
       "      <th>V6</th>\n",
       "      <th>V7</th>\n",
       "      <th>V8</th>\n",
       "      <th>V9</th>\n",
       "      <th>V10</th>\n",
       "      <th>...</th>\n",
       "      <th>V22</th>\n",
       "      <th>V23</th>\n",
       "      <th>V24</th>\n",
       "      <th>V25</th>\n",
       "      <th>V26</th>\n",
       "      <th>V27</th>\n",
       "      <th>V28</th>\n",
       "      <th>Class</th>\n",
       "      <th>Amount</th>\n",
       "      <th>Time</th>\n",
       "    </tr>\n",
       "  </thead>\n",
       "  <tbody>\n",
       "    <tr>\n",
       "      <th>count</th>\n",
       "      <td>2.848070e+05</td>\n",
       "      <td>2.848070e+05</td>\n",
       "      <td>2.848070e+05</td>\n",
       "      <td>2.848070e+05</td>\n",
       "      <td>2.848070e+05</td>\n",
       "      <td>2.848070e+05</td>\n",
       "      <td>2.848070e+05</td>\n",
       "      <td>2.848070e+05</td>\n",
       "      <td>2.848070e+05</td>\n",
       "      <td>2.848070e+05</td>\n",
       "      <td>...</td>\n",
       "      <td>2.848070e+05</td>\n",
       "      <td>2.848070e+05</td>\n",
       "      <td>2.848070e+05</td>\n",
       "      <td>2.848070e+05</td>\n",
       "      <td>2.848070e+05</td>\n",
       "      <td>2.848070e+05</td>\n",
       "      <td>2.848070e+05</td>\n",
       "      <td>284807.000000</td>\n",
       "      <td>284807.000000</td>\n",
       "      <td>284807.000000</td>\n",
       "    </tr>\n",
       "    <tr>\n",
       "      <th>mean</th>\n",
       "      <td>3.918649e-15</td>\n",
       "      <td>5.682686e-16</td>\n",
       "      <td>-8.761736e-15</td>\n",
       "      <td>2.811118e-15</td>\n",
       "      <td>-1.552103e-15</td>\n",
       "      <td>2.040130e-15</td>\n",
       "      <td>-1.698953e-15</td>\n",
       "      <td>-1.893285e-16</td>\n",
       "      <td>-3.147640e-15</td>\n",
       "      <td>1.772925e-15</td>\n",
       "      <td>...</td>\n",
       "      <td>8.042109e-16</td>\n",
       "      <td>5.282512e-16</td>\n",
       "      <td>4.456271e-15</td>\n",
       "      <td>1.426896e-15</td>\n",
       "      <td>1.701640e-15</td>\n",
       "      <td>-3.662252e-16</td>\n",
       "      <td>-1.217809e-16</td>\n",
       "      <td>0.001727</td>\n",
       "      <td>0.927124</td>\n",
       "      <td>0.118914</td>\n",
       "    </tr>\n",
       "    <tr>\n",
       "      <th>std</th>\n",
       "      <td>1.958696e+00</td>\n",
       "      <td>1.651309e+00</td>\n",
       "      <td>1.516255e+00</td>\n",
       "      <td>1.415869e+00</td>\n",
       "      <td>1.380247e+00</td>\n",
       "      <td>1.332271e+00</td>\n",
       "      <td>1.237094e+00</td>\n",
       "      <td>1.194353e+00</td>\n",
       "      <td>1.098632e+00</td>\n",
       "      <td>1.088850e+00</td>\n",
       "      <td>...</td>\n",
       "      <td>7.257016e-01</td>\n",
       "      <td>6.244603e-01</td>\n",
       "      <td>6.056471e-01</td>\n",
       "      <td>5.212781e-01</td>\n",
       "      <td>4.822270e-01</td>\n",
       "      <td>4.036325e-01</td>\n",
       "      <td>3.300833e-01</td>\n",
       "      <td>0.041527</td>\n",
       "      <td>3.495006</td>\n",
       "      <td>0.557903</td>\n",
       "    </tr>\n",
       "    <tr>\n",
       "      <th>min</th>\n",
       "      <td>-5.640751e+01</td>\n",
       "      <td>-7.271573e+01</td>\n",
       "      <td>-4.832559e+01</td>\n",
       "      <td>-5.683171e+00</td>\n",
       "      <td>-1.137433e+02</td>\n",
       "      <td>-2.616051e+01</td>\n",
       "      <td>-4.355724e+01</td>\n",
       "      <td>-7.321672e+01</td>\n",
       "      <td>-1.343407e+01</td>\n",
       "      <td>-2.458826e+01</td>\n",
       "      <td>...</td>\n",
       "      <td>-1.093314e+01</td>\n",
       "      <td>-4.480774e+01</td>\n",
       "      <td>-2.836627e+00</td>\n",
       "      <td>-1.029540e+01</td>\n",
       "      <td>-2.604551e+00</td>\n",
       "      <td>-2.256568e+01</td>\n",
       "      <td>-1.543008e+01</td>\n",
       "      <td>0.000000</td>\n",
       "      <td>-0.307413</td>\n",
       "      <td>-0.994983</td>\n",
       "    </tr>\n",
       "    <tr>\n",
       "      <th>25%</th>\n",
       "      <td>-9.203734e-01</td>\n",
       "      <td>-5.985499e-01</td>\n",
       "      <td>-8.903648e-01</td>\n",
       "      <td>-8.486401e-01</td>\n",
       "      <td>-6.915971e-01</td>\n",
       "      <td>-7.682956e-01</td>\n",
       "      <td>-5.540759e-01</td>\n",
       "      <td>-2.086297e-01</td>\n",
       "      <td>-6.430976e-01</td>\n",
       "      <td>-5.354257e-01</td>\n",
       "      <td>...</td>\n",
       "      <td>-5.423504e-01</td>\n",
       "      <td>-1.618463e-01</td>\n",
       "      <td>-3.545861e-01</td>\n",
       "      <td>-3.171451e-01</td>\n",
       "      <td>-3.269839e-01</td>\n",
       "      <td>-7.083953e-02</td>\n",
       "      <td>-5.295979e-02</td>\n",
       "      <td>0.000000</td>\n",
       "      <td>-0.229162</td>\n",
       "      <td>-0.358210</td>\n",
       "    </tr>\n",
       "    <tr>\n",
       "      <th>50%</th>\n",
       "      <td>1.810880e-02</td>\n",
       "      <td>6.548556e-02</td>\n",
       "      <td>1.798463e-01</td>\n",
       "      <td>-1.984653e-02</td>\n",
       "      <td>-5.433583e-02</td>\n",
       "      <td>-2.741871e-01</td>\n",
       "      <td>4.010308e-02</td>\n",
       "      <td>2.235804e-02</td>\n",
       "      <td>-5.142873e-02</td>\n",
       "      <td>-9.291738e-02</td>\n",
       "      <td>...</td>\n",
       "      <td>6.781943e-03</td>\n",
       "      <td>-1.119293e-02</td>\n",
       "      <td>4.097606e-02</td>\n",
       "      <td>1.659350e-02</td>\n",
       "      <td>-5.213911e-02</td>\n",
       "      <td>1.342146e-03</td>\n",
       "      <td>1.124383e-02</td>\n",
       "      <td>0.000000</td>\n",
       "      <td>0.000000</td>\n",
       "      <td>0.000000</td>\n",
       "    </tr>\n",
       "    <tr>\n",
       "      <th>75%</th>\n",
       "      <td>1.315642e+00</td>\n",
       "      <td>8.037239e-01</td>\n",
       "      <td>1.027196e+00</td>\n",
       "      <td>7.433413e-01</td>\n",
       "      <td>6.119264e-01</td>\n",
       "      <td>3.985649e-01</td>\n",
       "      <td>5.704361e-01</td>\n",
       "      <td>3.273459e-01</td>\n",
       "      <td>5.971390e-01</td>\n",
       "      <td>4.539234e-01</td>\n",
       "      <td>...</td>\n",
       "      <td>5.285536e-01</td>\n",
       "      <td>1.476421e-01</td>\n",
       "      <td>4.395266e-01</td>\n",
       "      <td>3.507156e-01</td>\n",
       "      <td>2.409522e-01</td>\n",
       "      <td>9.104512e-02</td>\n",
       "      <td>7.827995e-02</td>\n",
       "      <td>0.000000</td>\n",
       "      <td>0.770838</td>\n",
       "      <td>0.641790</td>\n",
       "    </tr>\n",
       "    <tr>\n",
       "      <th>max</th>\n",
       "      <td>2.454930e+00</td>\n",
       "      <td>2.205773e+01</td>\n",
       "      <td>9.382558e+00</td>\n",
       "      <td>1.687534e+01</td>\n",
       "      <td>3.480167e+01</td>\n",
       "      <td>7.330163e+01</td>\n",
       "      <td>1.205895e+02</td>\n",
       "      <td>2.000721e+01</td>\n",
       "      <td>1.559499e+01</td>\n",
       "      <td>2.374514e+01</td>\n",
       "      <td>...</td>\n",
       "      <td>1.050309e+01</td>\n",
       "      <td>2.252841e+01</td>\n",
       "      <td>4.584549e+00</td>\n",
       "      <td>7.519589e+00</td>\n",
       "      <td>3.517346e+00</td>\n",
       "      <td>3.161220e+01</td>\n",
       "      <td>3.384781e+01</td>\n",
       "      <td>1.000000</td>\n",
       "      <td>358.683155</td>\n",
       "      <td>1.035022</td>\n",
       "    </tr>\n",
       "  </tbody>\n",
       "</table>\n",
       "<p>8 rows × 31 columns</p>\n",
       "</div>"
      ],
      "text/plain": [
       "                 V1            V2            V3            V4            V5  \\\n",
       "count  2.848070e+05  2.848070e+05  2.848070e+05  2.848070e+05  2.848070e+05   \n",
       "mean   3.918649e-15  5.682686e-16 -8.761736e-15  2.811118e-15 -1.552103e-15   \n",
       "std    1.958696e+00  1.651309e+00  1.516255e+00  1.415869e+00  1.380247e+00   \n",
       "min   -5.640751e+01 -7.271573e+01 -4.832559e+01 -5.683171e+00 -1.137433e+02   \n",
       "25%   -9.203734e-01 -5.985499e-01 -8.903648e-01 -8.486401e-01 -6.915971e-01   \n",
       "50%    1.810880e-02  6.548556e-02  1.798463e-01 -1.984653e-02 -5.433583e-02   \n",
       "75%    1.315642e+00  8.037239e-01  1.027196e+00  7.433413e-01  6.119264e-01   \n",
       "max    2.454930e+00  2.205773e+01  9.382558e+00  1.687534e+01  3.480167e+01   \n",
       "\n",
       "                 V6            V7            V8            V9           V10  \\\n",
       "count  2.848070e+05  2.848070e+05  2.848070e+05  2.848070e+05  2.848070e+05   \n",
       "mean   2.040130e-15 -1.698953e-15 -1.893285e-16 -3.147640e-15  1.772925e-15   \n",
       "std    1.332271e+00  1.237094e+00  1.194353e+00  1.098632e+00  1.088850e+00   \n",
       "min   -2.616051e+01 -4.355724e+01 -7.321672e+01 -1.343407e+01 -2.458826e+01   \n",
       "25%   -7.682956e-01 -5.540759e-01 -2.086297e-01 -6.430976e-01 -5.354257e-01   \n",
       "50%   -2.741871e-01  4.010308e-02  2.235804e-02 -5.142873e-02 -9.291738e-02   \n",
       "75%    3.985649e-01  5.704361e-01  3.273459e-01  5.971390e-01  4.539234e-01   \n",
       "max    7.330163e+01  1.205895e+02  2.000721e+01  1.559499e+01  2.374514e+01   \n",
       "\n",
       "       ...           V22           V23           V24           V25  \\\n",
       "count  ...  2.848070e+05  2.848070e+05  2.848070e+05  2.848070e+05   \n",
       "mean   ...  8.042109e-16  5.282512e-16  4.456271e-15  1.426896e-15   \n",
       "std    ...  7.257016e-01  6.244603e-01  6.056471e-01  5.212781e-01   \n",
       "min    ... -1.093314e+01 -4.480774e+01 -2.836627e+00 -1.029540e+01   \n",
       "25%    ... -5.423504e-01 -1.618463e-01 -3.545861e-01 -3.171451e-01   \n",
       "50%    ...  6.781943e-03 -1.119293e-02  4.097606e-02  1.659350e-02   \n",
       "75%    ...  5.285536e-01  1.476421e-01  4.395266e-01  3.507156e-01   \n",
       "max    ...  1.050309e+01  2.252841e+01  4.584549e+00  7.519589e+00   \n",
       "\n",
       "                V26           V27           V28          Class         Amount  \\\n",
       "count  2.848070e+05  2.848070e+05  2.848070e+05  284807.000000  284807.000000   \n",
       "mean   1.701640e-15 -3.662252e-16 -1.217809e-16       0.001727       0.927124   \n",
       "std    4.822270e-01  4.036325e-01  3.300833e-01       0.041527       3.495006   \n",
       "min   -2.604551e+00 -2.256568e+01 -1.543008e+01       0.000000      -0.307413   \n",
       "25%   -3.269839e-01 -7.083953e-02 -5.295979e-02       0.000000      -0.229162   \n",
       "50%   -5.213911e-02  1.342146e-03  1.124383e-02       0.000000       0.000000   \n",
       "75%    2.409522e-01  9.104512e-02  7.827995e-02       0.000000       0.770838   \n",
       "max    3.517346e+00  3.161220e+01  3.384781e+01       1.000000     358.683155   \n",
       "\n",
       "                Time  \n",
       "count  284807.000000  \n",
       "mean        0.118914  \n",
       "std         0.557903  \n",
       "min        -0.994983  \n",
       "25%        -0.358210  \n",
       "50%         0.000000  \n",
       "75%         0.641790  \n",
       "max         1.035022  \n",
       "\n",
       "[8 rows x 31 columns]"
      ]
     },
     "execution_count": 10,
     "metadata": {},
     "output_type": "execute_result"
    }
   ],
   "source": [
    "df.describe()"
   ]
  },
  {
   "cell_type": "code",
   "execution_count": 11,
   "metadata": {},
   "outputs": [],
   "source": [
    "df = df.drop(['V8','V13','V15','V17','V20','V22','V23','V24','V25','V26','V27','V28'], axis =1)\n"
   ]
  },
  {
   "cell_type": "code",
   "execution_count": 12,
   "metadata": {},
   "outputs": [
    {
     "data": {
      "text/html": [
       "<div>\n",
       "<style scoped>\n",
       "    .dataframe tbody tr th:only-of-type {\n",
       "        vertical-align: middle;\n",
       "    }\n",
       "\n",
       "    .dataframe tbody tr th {\n",
       "        vertical-align: top;\n",
       "    }\n",
       "\n",
       "    .dataframe thead th {\n",
       "        text-align: right;\n",
       "    }\n",
       "</style>\n",
       "<table border=\"1\" class=\"dataframe\">\n",
       "  <thead>\n",
       "    <tr style=\"text-align: right;\">\n",
       "      <th></th>\n",
       "      <th>V1</th>\n",
       "      <th>V2</th>\n",
       "      <th>V3</th>\n",
       "      <th>V4</th>\n",
       "      <th>V5</th>\n",
       "      <th>V6</th>\n",
       "      <th>V7</th>\n",
       "      <th>V9</th>\n",
       "      <th>V10</th>\n",
       "      <th>V11</th>\n",
       "      <th>V12</th>\n",
       "      <th>V14</th>\n",
       "      <th>V16</th>\n",
       "      <th>V18</th>\n",
       "      <th>V19</th>\n",
       "      <th>V21</th>\n",
       "      <th>Class</th>\n",
       "      <th>Amount</th>\n",
       "      <th>Time</th>\n",
       "    </tr>\n",
       "  </thead>\n",
       "  <tbody>\n",
       "    <tr>\n",
       "      <th>0</th>\n",
       "      <td>-1.359807</td>\n",
       "      <td>-0.072781</td>\n",
       "      <td>2.536347</td>\n",
       "      <td>1.378155</td>\n",
       "      <td>-0.338321</td>\n",
       "      <td>0.462388</td>\n",
       "      <td>0.239599</td>\n",
       "      <td>0.363787</td>\n",
       "      <td>0.090794</td>\n",
       "      <td>-0.551600</td>\n",
       "      <td>-0.617801</td>\n",
       "      <td>-0.311169</td>\n",
       "      <td>-0.470401</td>\n",
       "      <td>0.025791</td>\n",
       "      <td>0.403993</td>\n",
       "      <td>-0.018307</td>\n",
       "      <td>0</td>\n",
       "      <td>1.783274</td>\n",
       "      <td>-0.994983</td>\n",
       "    </tr>\n",
       "    <tr>\n",
       "      <th>1</th>\n",
       "      <td>1.191857</td>\n",
       "      <td>0.266151</td>\n",
       "      <td>0.166480</td>\n",
       "      <td>0.448154</td>\n",
       "      <td>0.060018</td>\n",
       "      <td>-0.082361</td>\n",
       "      <td>-0.078803</td>\n",
       "      <td>-0.255425</td>\n",
       "      <td>-0.166974</td>\n",
       "      <td>1.612727</td>\n",
       "      <td>1.065235</td>\n",
       "      <td>-0.143772</td>\n",
       "      <td>0.463917</td>\n",
       "      <td>-0.183361</td>\n",
       "      <td>-0.145783</td>\n",
       "      <td>-0.225775</td>\n",
       "      <td>0</td>\n",
       "      <td>-0.269825</td>\n",
       "      <td>-0.994983</td>\n",
       "    </tr>\n",
       "    <tr>\n",
       "      <th>2</th>\n",
       "      <td>-1.358354</td>\n",
       "      <td>-1.340163</td>\n",
       "      <td>1.773209</td>\n",
       "      <td>0.379780</td>\n",
       "      <td>-0.503198</td>\n",
       "      <td>1.800499</td>\n",
       "      <td>0.791461</td>\n",
       "      <td>-1.514654</td>\n",
       "      <td>0.207643</td>\n",
       "      <td>0.624501</td>\n",
       "      <td>0.066084</td>\n",
       "      <td>-0.165946</td>\n",
       "      <td>-2.890083</td>\n",
       "      <td>-0.121359</td>\n",
       "      <td>-2.261857</td>\n",
       "      <td>0.247998</td>\n",
       "      <td>0</td>\n",
       "      <td>4.983721</td>\n",
       "      <td>-0.994972</td>\n",
       "    </tr>\n",
       "    <tr>\n",
       "      <th>3</th>\n",
       "      <td>-0.966272</td>\n",
       "      <td>-0.185226</td>\n",
       "      <td>1.792993</td>\n",
       "      <td>-0.863291</td>\n",
       "      <td>-0.010309</td>\n",
       "      <td>1.247203</td>\n",
       "      <td>0.237609</td>\n",
       "      <td>-1.387024</td>\n",
       "      <td>-0.054952</td>\n",
       "      <td>-0.226487</td>\n",
       "      <td>0.178228</td>\n",
       "      <td>-0.287924</td>\n",
       "      <td>-1.059647</td>\n",
       "      <td>1.965775</td>\n",
       "      <td>-1.232622</td>\n",
       "      <td>-0.108300</td>\n",
       "      <td>0</td>\n",
       "      <td>1.418291</td>\n",
       "      <td>-0.994972</td>\n",
       "    </tr>\n",
       "    <tr>\n",
       "      <th>4</th>\n",
       "      <td>-1.158233</td>\n",
       "      <td>0.877737</td>\n",
       "      <td>1.548718</td>\n",
       "      <td>0.403034</td>\n",
       "      <td>-0.407193</td>\n",
       "      <td>0.095921</td>\n",
       "      <td>0.592941</td>\n",
       "      <td>0.817739</td>\n",
       "      <td>0.753074</td>\n",
       "      <td>-0.822843</td>\n",
       "      <td>0.538196</td>\n",
       "      <td>-1.119670</td>\n",
       "      <td>-0.451449</td>\n",
       "      <td>-0.038195</td>\n",
       "      <td>0.803487</td>\n",
       "      <td>-0.009431</td>\n",
       "      <td>0</td>\n",
       "      <td>0.670579</td>\n",
       "      <td>-0.994960</td>\n",
       "    </tr>\n",
       "  </tbody>\n",
       "</table>\n",
       "</div>"
      ],
      "text/plain": [
       "         V1        V2        V3        V4        V5        V6        V7  \\\n",
       "0 -1.359807 -0.072781  2.536347  1.378155 -0.338321  0.462388  0.239599   \n",
       "1  1.191857  0.266151  0.166480  0.448154  0.060018 -0.082361 -0.078803   \n",
       "2 -1.358354 -1.340163  1.773209  0.379780 -0.503198  1.800499  0.791461   \n",
       "3 -0.966272 -0.185226  1.792993 -0.863291 -0.010309  1.247203  0.237609   \n",
       "4 -1.158233  0.877737  1.548718  0.403034 -0.407193  0.095921  0.592941   \n",
       "\n",
       "         V9       V10       V11       V12       V14       V16       V18  \\\n",
       "0  0.363787  0.090794 -0.551600 -0.617801 -0.311169 -0.470401  0.025791   \n",
       "1 -0.255425 -0.166974  1.612727  1.065235 -0.143772  0.463917 -0.183361   \n",
       "2 -1.514654  0.207643  0.624501  0.066084 -0.165946 -2.890083 -0.121359   \n",
       "3 -1.387024 -0.054952 -0.226487  0.178228 -0.287924 -1.059647  1.965775   \n",
       "4  0.817739  0.753074 -0.822843  0.538196 -1.119670 -0.451449 -0.038195   \n",
       "\n",
       "        V19       V21  Class    Amount      Time  \n",
       "0  0.403993 -0.018307      0  1.783274 -0.994983  \n",
       "1 -0.145783 -0.225775      0 -0.269825 -0.994983  \n",
       "2 -2.261857  0.247998      0  4.983721 -0.994972  \n",
       "3 -1.232622 -0.108300      0  1.418291 -0.994972  \n",
       "4  0.803487 -0.009431      0  0.670579 -0.994960  "
      ]
     },
     "execution_count": 12,
     "metadata": {},
     "output_type": "execute_result"
    }
   ],
   "source": [
    "df.head()"
   ]
  },
  {
   "cell_type": "code",
   "execution_count": 13,
   "metadata": {},
   "outputs": [
    {
     "data": {
      "text/plain": [
       "(284807, 19)"
      ]
     },
     "execution_count": 13,
     "metadata": {},
     "output_type": "execute_result"
    }
   ],
   "source": [
    "df.shape"
   ]
  },
  {
   "cell_type": "code",
   "execution_count": 14,
   "metadata": {},
   "outputs": [
    {
     "data": {
      "text/html": [
       "<div>\n",
       "<style scoped>\n",
       "    .dataframe tbody tr th:only-of-type {\n",
       "        vertical-align: middle;\n",
       "    }\n",
       "\n",
       "    .dataframe tbody tr th {\n",
       "        vertical-align: top;\n",
       "    }\n",
       "\n",
       "    .dataframe thead th {\n",
       "        text-align: right;\n",
       "    }\n",
       "</style>\n",
       "<table border=\"1\" class=\"dataframe\">\n",
       "  <thead>\n",
       "    <tr style=\"text-align: right;\">\n",
       "      <th></th>\n",
       "      <th>V1</th>\n",
       "      <th>V2</th>\n",
       "      <th>V3</th>\n",
       "      <th>V4</th>\n",
       "      <th>V5</th>\n",
       "      <th>V6</th>\n",
       "      <th>V7</th>\n",
       "      <th>V9</th>\n",
       "      <th>V10</th>\n",
       "      <th>V11</th>\n",
       "      <th>V12</th>\n",
       "      <th>V14</th>\n",
       "      <th>V16</th>\n",
       "      <th>V18</th>\n",
       "      <th>V19</th>\n",
       "      <th>V21</th>\n",
       "      <th>Class</th>\n",
       "      <th>Amount</th>\n",
       "      <th>Time</th>\n",
       "    </tr>\n",
       "  </thead>\n",
       "  <tbody>\n",
       "    <tr>\n",
       "      <th>44556</th>\n",
       "      <td>-4.566342</td>\n",
       "      <td>3.353451</td>\n",
       "      <td>-4.572028</td>\n",
       "      <td>3.616119</td>\n",
       "      <td>-2.493138</td>\n",
       "      <td>-1.090000</td>\n",
       "      <td>-5.551433</td>\n",
       "      <td>-2.424414</td>\n",
       "      <td>-5.699922</td>\n",
       "      <td>3.586824</td>\n",
       "      <td>-6.636229</td>\n",
       "      <td>-7.245550</td>\n",
       "      <td>-6.856810</td>\n",
       "      <td>-4.591883</td>\n",
       "      <td>0.936940</td>\n",
       "      <td>2.674466</td>\n",
       "      <td>1</td>\n",
       "      <td>-0.293440</td>\n",
       "      <td>-0.501662</td>\n",
       "    </tr>\n",
       "    <tr>\n",
       "      <th>220725</th>\n",
       "      <td>-1.169203</td>\n",
       "      <td>1.863414</td>\n",
       "      <td>-2.515135</td>\n",
       "      <td>5.463681</td>\n",
       "      <td>-0.297971</td>\n",
       "      <td>1.364918</td>\n",
       "      <td>0.759219</td>\n",
       "      <td>-2.293921</td>\n",
       "      <td>-0.423784</td>\n",
       "      <td>2.375876</td>\n",
       "      <td>-3.244827</td>\n",
       "      <td>-5.152475</td>\n",
       "      <td>-1.022045</td>\n",
       "      <td>0.126460</td>\n",
       "      <td>1.819013</td>\n",
       "      <td>-0.393090</td>\n",
       "      <td>1</td>\n",
       "      <td>4.228184</td>\n",
       "      <td>0.676559</td>\n",
       "    </tr>\n",
       "    <tr>\n",
       "      <th>191753</th>\n",
       "      <td>1.988171</td>\n",
       "      <td>-0.545830</td>\n",
       "      <td>-1.748809</td>\n",
       "      <td>-0.738284</td>\n",
       "      <td>1.839428</td>\n",
       "      <td>3.706949</td>\n",
       "      <td>-1.096053</td>\n",
       "      <td>1.025073</td>\n",
       "      <td>-0.106277</td>\n",
       "      <td>0.054414</td>\n",
       "      <td>0.493342</td>\n",
       "      <td>0.238136</td>\n",
       "      <td>0.259629</td>\n",
       "      <td>-0.222016</td>\n",
       "      <td>-0.310416</td>\n",
       "      <td>-0.143457</td>\n",
       "      <td>0</td>\n",
       "      <td>-0.290924</td>\n",
       "      <td>0.525241</td>\n",
       "    </tr>\n",
       "    <tr>\n",
       "      <th>263080</th>\n",
       "      <td>2.132386</td>\n",
       "      <td>0.705608</td>\n",
       "      <td>-3.530759</td>\n",
       "      <td>0.514779</td>\n",
       "      <td>1.527175</td>\n",
       "      <td>-1.716268</td>\n",
       "      <td>1.132791</td>\n",
       "      <td>0.128904</td>\n",
       "      <td>-1.000805</td>\n",
       "      <td>-0.191191</td>\n",
       "      <td>-0.323794</td>\n",
       "      <td>-1.422064</td>\n",
       "      <td>-0.387162</td>\n",
       "      <td>0.610976</td>\n",
       "      <td>-0.221267</td>\n",
       "      <td>0.163739</td>\n",
       "      <td>1</td>\n",
       "      <td>-0.293440</td>\n",
       "      <td>0.894031</td>\n",
       "    </tr>\n",
       "    <tr>\n",
       "      <th>135718</th>\n",
       "      <td>-0.885254</td>\n",
       "      <td>1.790649</td>\n",
       "      <td>-0.945149</td>\n",
       "      <td>3.853433</td>\n",
       "      <td>-1.543510</td>\n",
       "      <td>0.188582</td>\n",
       "      <td>-2.988383</td>\n",
       "      <td>-2.294535</td>\n",
       "      <td>-1.886176</td>\n",
       "      <td>1.904284</td>\n",
       "      <td>-4.002414</td>\n",
       "      <td>-2.801915</td>\n",
       "      <td>-2.348740</td>\n",
       "      <td>-0.827308</td>\n",
       "      <td>1.732382</td>\n",
       "      <td>0.746160</td>\n",
       "      <td>1</td>\n",
       "      <td>-0.201635</td>\n",
       "      <td>-0.039004</td>\n",
       "    </tr>\n",
       "  </tbody>\n",
       "</table>\n",
       "</div>"
      ],
      "text/plain": [
       "              V1        V2        V3        V4        V5        V6        V7  \\\n",
       "44556  -4.566342  3.353451 -4.572028  3.616119 -2.493138 -1.090000 -5.551433   \n",
       "220725 -1.169203  1.863414 -2.515135  5.463681 -0.297971  1.364918  0.759219   \n",
       "191753  1.988171 -0.545830 -1.748809 -0.738284  1.839428  3.706949 -1.096053   \n",
       "263080  2.132386  0.705608 -3.530759  0.514779  1.527175 -1.716268  1.132791   \n",
       "135718 -0.885254  1.790649 -0.945149  3.853433 -1.543510  0.188582 -2.988383   \n",
       "\n",
       "              V9       V10       V11       V12       V14       V16       V18  \\\n",
       "44556  -2.424414 -5.699922  3.586824 -6.636229 -7.245550 -6.856810 -4.591883   \n",
       "220725 -2.293921 -0.423784  2.375876 -3.244827 -5.152475 -1.022045  0.126460   \n",
       "191753  1.025073 -0.106277  0.054414  0.493342  0.238136  0.259629 -0.222016   \n",
       "263080  0.128904 -1.000805 -0.191191 -0.323794 -1.422064 -0.387162  0.610976   \n",
       "135718 -2.294535 -1.886176  1.904284 -4.002414 -2.801915 -2.348740 -0.827308   \n",
       "\n",
       "             V19       V21  Class    Amount      Time  \n",
       "44556   0.936940  2.674466      1 -0.293440 -0.501662  \n",
       "220725  1.819013 -0.393090      1  4.228184  0.676559  \n",
       "191753 -0.310416 -0.143457      0 -0.290924  0.525241  \n",
       "263080 -0.221267  0.163739      1 -0.293440  0.894031  \n",
       "135718  1.732382  0.746160      1 -0.201635 -0.039004  "
      ]
     },
     "execution_count": 14,
     "metadata": {},
     "output_type": "execute_result"
    }
   ],
   "source": [
    "df = df.sample(frac=1)\n",
    "\n",
    "df_fraud= df.loc[df['Class'] == 1]\n",
    "df_legitimate = df.loc[df['Class'] == 0].sample(n=492, replace = False)\n",
    "\n",
    "df_balanced= pd.concat([df_fraud, df_legitimate]).sample(frac=1, random_state=10)\n",
    "df_balanced.head()"
   ]
  },
  {
   "cell_type": "code",
   "execution_count": 15,
   "metadata": {},
   "outputs": [],
   "source": [
    "df = df_balanced"
   ]
  },
  {
   "cell_type": "code",
   "execution_count": 16,
   "metadata": {
    "scrolled": true
   },
   "outputs": [
    {
     "name": "stdout",
     "output_type": "stream",
     "text": [
      "Shape of X: (984, 18)\n",
      "Shape of y: (984,)\n"
     ]
    }
   ],
   "source": [
    "X = df.drop('Class', axis=1)\n",
    "y = df['Class']\n",
    "\n",
    "print('Shape of X: {}'.format(X.shape))\n",
    "print('Shape of y: {}'.format(y.shape))\n"
   ]
  },
  {
   "cell_type": "markdown",
   "metadata": {},
   "source": [
    "# DO NOT RUN THIS AGAIN"
   ]
  },
  {
   "cell_type": "markdown",
   "metadata": {},
   "source": [
    "# STARTS"
   ]
  },
  {
   "cell_type": "code",
   "execution_count": 17,
   "metadata": {},
   "outputs": [],
   "source": [
    "from sklearn.model_selection import train_test_split\n",
    "\n",
    "X_train, X_test, y_train, y_test = train_test_split(X, y, test_size=0.2, random_state=0)\n"
   ]
  },
  {
   "cell_type": "code",
   "execution_count": 141,
   "metadata": {},
   "outputs": [],
   "source": [
    "pd.DataFrame(X_train).to_csv(\"X_train_SMOTE_u.csv\", index=None)\n",
    "pd.DataFrame(y_train, columns={\"Class\"}).to_csv(\"Y_train_SMOTE_u.csv\", index=None)\n",
    "pd.DataFrame(X_test).to_csv(\"X_test_u.csv\", index=None)\n",
    "pd.DataFrame(y_test).to_csv(\"y_test_u.csv\", index=None)"
   ]
  },
  {
   "cell_type": "markdown",
   "metadata": {},
   "source": [
    "# ENDS"
   ]
  },
  {
   "cell_type": "markdown",
   "metadata": {},
   "source": [
    "# <font color=blue> Check shape after SMOTE"
   ]
  },
  {
   "cell_type": "code",
   "execution_count": 142,
   "metadata": {},
   "outputs": [],
   "source": [
    "X_train = pd.read_csv('X_train_SMOTE_u.csv')\n",
    "y_train = pd.read_csv('Y_train_SMOTE_u.csv').to_numpy()\n",
    "X_test = pd.read_csv('X_test_u.csv')\n",
    "y_test = pd.read_csv('y_test_u.csv')"
   ]
  },
  {
   "cell_type": "code",
   "execution_count": 143,
   "metadata": {},
   "outputs": [
    {
     "name": "stdout",
     "output_type": "stream",
     "text": [
      "(787, 18)\n",
      "(787, 1)\n",
      "(197, 18)\n",
      "(197, 1)\n"
     ]
    }
   ],
   "source": [
    "print(X_train.shape)\n",
    "print(y_train.shape)\n",
    "print(X_test.shape)\n",
    "print(y_test.shape)"
   ]
  },
  {
   "cell_type": "code",
   "execution_count": 156,
   "metadata": {},
   "outputs": [],
   "source": [
    "X_test_og = pd.read_csv('X_test.csv')\n",
    "y_test_og = pd.read_csv('y_test.csv')"
   ]
  },
  {
   "cell_type": "code",
   "execution_count": 157,
   "metadata": {},
   "outputs": [
    {
     "name": "stdout",
     "output_type": "stream",
     "text": [
      "(56962, 18)\n",
      "(56962, 1)\n"
     ]
    }
   ],
   "source": [
    "print(X_test_og.shape)\n",
    "print(y_test_og.shape)"
   ]
  },
  {
   "cell_type": "markdown",
   "metadata": {},
   "source": [
    "# <font color=blue>Confusion Matrix\n"
   ]
  },
  {
   "cell_type": "code",
   "execution_count": 20,
   "metadata": {},
   "outputs": [],
   "source": [
    "from sklearn.metrics import confusion_matrix, precision_recall_curve, auc, roc_auc_score, roc_curve, recall_score, classification_report\n",
    "\n",
    "def plot_confusion_matrix(cm, model):\n",
    "    plt.figure(figsize=(8,6))\n",
    "    ax = plt.subplot()\n",
    "    sns.heatmap(cm, annot=True, fmt='g', ax = ax)\n",
    "    ax.set_xlabel('Predicted')\n",
    "    ax.set_ylabel('Actual')\n",
    "    ax.set_title(f'Confusion Matrix - {model}')\n",
    "    ax.xaxis.set_ticklabels(['Not Fraud','Fraud'])\n",
    "    ax.yaxis.set_ticklabels(['Not Fraud','Fraud'])\n",
    "    plt.show()"
   ]
  },
  {
   "cell_type": "markdown",
   "metadata": {},
   "source": [
    "# <font color=blue> Function for Metrics Eval"
   ]
  },
  {
   "cell_type": "code",
   "execution_count": 21,
   "metadata": {},
   "outputs": [],
   "source": [
    "def calc_metrics(cm):\n",
    "    tn, fp, fn, tp = cm.ravel()\n",
    "    m = dict()\n",
    "    m['recall'] = 100*tp/(tp+fn)\n",
    "    m['precision'] = 100*tp/(tp+fp)\n",
    "    m['accuracy'] = 100*(tn+tp)/(tn+tp+fn+fp)\n",
    "    m['f1'] = 2/((1/m['precision'])+(1/m['recall']))\n",
    "    m['mcc'] = ((tp*tn)-(fp*fn))/np.sqrt((tp+fp)*(tn+fn)*(tn+fp)*(tp+fn))\n",
    "    \n",
    "    return m"
   ]
  },
  {
   "cell_type": "markdown",
   "metadata": {},
   "source": [
    "# <font color=blue> Precision Recall Curve"
   ]
  },
  {
   "cell_type": "code",
   "execution_count": 22,
   "metadata": {},
   "outputs": [],
   "source": [
    "from sklearn.metrics import precision_recall_curve\n",
    "\n",
    "def plot_prcurve(precision, recall, model):\n",
    "    fig, ax = plt.subplots(figsize=(8,6))\n",
    "    ax.set_title(f'Precision Recall Curve - {model}')    \n",
    "    ax.plot(recall, precision, label=\"\")\n",
    "\n",
    "    baseline = y_test[y_test==1].count()/y_test.count()    \n",
    "    ax.plot([0,1], [baseline, baseline], linestyle='--', label='Baseline')\n",
    "    ax.set_xlabel('Recall')\n",
    "    ax.set_ylabel('Precision')\n",
    "    ax.legend(loc='center left');\n"
   ]
  },
  {
   "cell_type": "markdown",
   "metadata": {},
   "source": [
    "# <font color = red> Model - Logistic regression</font>"
   ]
  },
  {
   "cell_type": "code",
   "execution_count": 23,
   "metadata": {},
   "outputs": [],
   "source": [
    "from sklearn.linear_model import LogisticRegression\n",
    "from sklearn.metrics import confusion_matrix, precision_recall_curve, auc, roc_auc_score, roc_curve, recall_score, classification_report"
   ]
  },
  {
   "cell_type": "code",
   "execution_count": 24,
   "metadata": {},
   "outputs": [
    {
     "name": "stdout",
     "output_type": "stream",
     "text": [
      "[LibLinear]"
     ]
    },
    {
     "data": {
      "text/html": [
       "<style>#sk-container-id-1 {color: black;background-color: white;}#sk-container-id-1 pre{padding: 0;}#sk-container-id-1 div.sk-toggleable {background-color: white;}#sk-container-id-1 label.sk-toggleable__label {cursor: pointer;display: block;width: 100%;margin-bottom: 0;padding: 0.3em;box-sizing: border-box;text-align: center;}#sk-container-id-1 label.sk-toggleable__label-arrow:before {content: \"▸\";float: left;margin-right: 0.25em;color: #696969;}#sk-container-id-1 label.sk-toggleable__label-arrow:hover:before {color: black;}#sk-container-id-1 div.sk-estimator:hover label.sk-toggleable__label-arrow:before {color: black;}#sk-container-id-1 div.sk-toggleable__content {max-height: 0;max-width: 0;overflow: hidden;text-align: left;background-color: #f0f8ff;}#sk-container-id-1 div.sk-toggleable__content pre {margin: 0.2em;color: black;border-radius: 0.25em;background-color: #f0f8ff;}#sk-container-id-1 input.sk-toggleable__control:checked~div.sk-toggleable__content {max-height: 200px;max-width: 100%;overflow: auto;}#sk-container-id-1 input.sk-toggleable__control:checked~label.sk-toggleable__label-arrow:before {content: \"▾\";}#sk-container-id-1 div.sk-estimator input.sk-toggleable__control:checked~label.sk-toggleable__label {background-color: #d4ebff;}#sk-container-id-1 div.sk-label input.sk-toggleable__control:checked~label.sk-toggleable__label {background-color: #d4ebff;}#sk-container-id-1 input.sk-hidden--visually {border: 0;clip: rect(1px 1px 1px 1px);clip: rect(1px, 1px, 1px, 1px);height: 1px;margin: -1px;overflow: hidden;padding: 0;position: absolute;width: 1px;}#sk-container-id-1 div.sk-estimator {font-family: monospace;background-color: #f0f8ff;border: 1px dotted black;border-radius: 0.25em;box-sizing: border-box;margin-bottom: 0.5em;}#sk-container-id-1 div.sk-estimator:hover {background-color: #d4ebff;}#sk-container-id-1 div.sk-parallel-item::after {content: \"\";width: 100%;border-bottom: 1px solid gray;flex-grow: 1;}#sk-container-id-1 div.sk-label:hover label.sk-toggleable__label {background-color: #d4ebff;}#sk-container-id-1 div.sk-serial::before {content: \"\";position: absolute;border-left: 1px solid gray;box-sizing: border-box;top: 0;bottom: 0;left: 50%;z-index: 0;}#sk-container-id-1 div.sk-serial {display: flex;flex-direction: column;align-items: center;background-color: white;padding-right: 0.2em;padding-left: 0.2em;position: relative;}#sk-container-id-1 div.sk-item {position: relative;z-index: 1;}#sk-container-id-1 div.sk-parallel {display: flex;align-items: stretch;justify-content: center;background-color: white;position: relative;}#sk-container-id-1 div.sk-item::before, #sk-container-id-1 div.sk-parallel-item::before {content: \"\";position: absolute;border-left: 1px solid gray;box-sizing: border-box;top: 0;bottom: 0;left: 50%;z-index: -1;}#sk-container-id-1 div.sk-parallel-item {display: flex;flex-direction: column;z-index: 1;position: relative;background-color: white;}#sk-container-id-1 div.sk-parallel-item:first-child::after {align-self: flex-end;width: 50%;}#sk-container-id-1 div.sk-parallel-item:last-child::after {align-self: flex-start;width: 50%;}#sk-container-id-1 div.sk-parallel-item:only-child::after {width: 0;}#sk-container-id-1 div.sk-dashed-wrapped {border: 1px dashed gray;margin: 0 0.4em 0.5em 0.4em;box-sizing: border-box;padding-bottom: 0.4em;background-color: white;}#sk-container-id-1 div.sk-label label {font-family: monospace;font-weight: bold;display: inline-block;line-height: 1.2em;}#sk-container-id-1 div.sk-label-container {text-align: center;}#sk-container-id-1 div.sk-container {/* jupyter's `normalize.less` sets `[hidden] { display: none; }` but bootstrap.min.css set `[hidden] { display: none !important; }` so we also need the `!important` here to be able to override the default hidden behavior on the sphinx rendered scikit-learn.org. See: https://github.com/scikit-learn/scikit-learn/issues/21755 */display: inline-block !important;position: relative;}#sk-container-id-1 div.sk-text-repr-fallback {display: none;}</style><div id=\"sk-container-id-1\" class=\"sk-top-container\"><div class=\"sk-text-repr-fallback\"><pre>LogisticRegression(C=1, penalty=&#x27;l1&#x27;, solver=&#x27;liblinear&#x27;, verbose=5)</pre><b>In a Jupyter environment, please rerun this cell to show the HTML representation or trust the notebook. <br />On GitHub, the HTML representation is unable to render, please try loading this page with nbviewer.org.</b></div><div class=\"sk-container\" hidden><div class=\"sk-item\"><div class=\"sk-estimator sk-toggleable\"><input class=\"sk-toggleable__control sk-hidden--visually\" id=\"sk-estimator-id-1\" type=\"checkbox\" checked><label for=\"sk-estimator-id-1\" class=\"sk-toggleable__label sk-toggleable__label-arrow\">LogisticRegression</label><div class=\"sk-toggleable__content\"><pre>LogisticRegression(C=1, penalty=&#x27;l1&#x27;, solver=&#x27;liblinear&#x27;, verbose=5)</pre></div></div></div></div></div>"
      ],
      "text/plain": [
       "LogisticRegression(C=1, penalty='l1', solver='liblinear', verbose=5)"
      ]
     },
     "execution_count": 24,
     "metadata": {},
     "output_type": "execute_result"
    }
   ],
   "source": [
    "lr = LogisticRegression(C=1,penalty='l1', solver=\"liblinear\", verbose=5)\n",
    "lr.fit(X_train, y_train.ravel())"
   ]
  },
  {
   "cell_type": "markdown",
   "metadata": {},
   "source": [
    "# Logistic Regression Confusion Matrix"
   ]
  },
  {
   "cell_type": "code",
   "execution_count": 25,
   "metadata": {},
   "outputs": [
    {
     "name": "stdout",
     "output_type": "stream",
     "text": [
      "Recall in the Training dataset: 91.12271540469973%\n",
      "Precision in the Training dataset: 97.75910364145658%\n"
     ]
    },
    {
     "data": {
      "image/png": "[encoded data removed]",
      "text/plain": [
       "<Figure size 576x432 with 2 Axes>"
      ]
     },
     "metadata": {},
     "output_type": "display_data"
    }
   ],
   "source": [
    "# Prediction on Training Dataset\n",
    "\n",
    "y_train_pre = lr.predict(X_train)\n",
    "\n",
    "cm_lr = confusion_matrix(y_train, y_train_pre)\n",
    "tn, fp, fn, tp = cm_lr.ravel()\n",
    "\n",
    "print(f\"Recall in the Training dataset: {tp/(tp+fn)*100}%\")\n",
    "print(f\"Precision in the Training dataset: {tp/(tp+fp)*100}%\")\n",
    "\n",
    "\n",
    "plot_confusion_matrix(cm_lr, \"Logistic Regression(Training Data)\")"
   ]
  },
  {
   "cell_type": "markdown",
   "metadata": {},
   "source": [
    "## Prediction on Testing Data"
   ]
  },
  {
   "cell_type": "code",
   "execution_count": 26,
   "metadata": {},
   "outputs": [
    {
     "name": "stdout",
     "output_type": "stream",
     "text": [
      "Recall in the Testing dataset: 89.90825688073394%\n",
      "Precision in the Testing dataset: 94.23076923076923%\n"
     ]
    },
    {
     "data": {
      "image/png": "[encoded data removed]",
      "text/plain": [
       "<Figure size 576x432 with 2 Axes>"
      ]
     },
     "metadata": {},
     "output_type": "display_data"
    }
   ],
   "source": [
    "y_pre = lr.predict(X_test)\n",
    "\n",
    "cm_lr_ = confusion_matrix(y_test, y_pre)\n",
    "tn, fp, fn, tp = cm_lr_.ravel()\n",
    "\n",
    "print(f\"Recall in the Testing dataset: {tp/(tp+fn)*100}%\")\n",
    "print(f\"Precision in the Testing dataset: {tp/(tp+fp)*100}%\")\n",
    "\n",
    "\n",
    "plot_confusion_matrix(cm_lr_, \"Logistic Regression(Testing Data)\")"
   ]
  },
  {
   "cell_type": "code",
   "execution_count": 27,
   "metadata": {},
   "outputs": [],
   "source": [
    "metrics_lr = calc_metrics(cm_lr_)"
   ]
  },
  {
   "cell_type": "code",
   "execution_count": 28,
   "metadata": {},
   "outputs": [
    {
     "name": "stdout",
     "output_type": "stream",
     "text": [
      "recall 89.90825688073394\n",
      "precision 94.23076923076923\n",
      "accuracy 91.37055837563452\n",
      "f1 92.01877934272301\n",
      "mcc 0.8274573012858999\n"
     ]
    }
   ],
   "source": [
    "for k,v in metrics_lr.items():\n",
    "    print(k,v)"
   ]
  },
  {
   "cell_type": "code",
   "execution_count": 29,
   "metadata": {},
   "outputs": [
    {
     "data": {
      "image/png": "[encoded data removed]",
      "text/plain": [
       "<Figure size 576x432 with 1 Axes>"
      ]
     },
     "metadata": {},
     "output_type": "display_data"
    }
   ],
   "source": [
    "prob = lr.predict_proba(X_test)[:, 1]\n",
    "\n",
    "prec, rec, thresh = precision_recall_curve(y_test,prob)\n",
    "\n",
    "plot_prcurve(prec, rec, \"Logistic Regression\")"
   ]
  },
  {
   "cell_type": "code",
   "execution_count": 30,
   "metadata": {},
   "outputs": [],
   "source": [
    "pr_auc = auc(rec, prec)\n",
    "pr_auc\n",
    "metrics_lr['pr_auc'] = pr_auc"
   ]
  },
  {
   "cell_type": "code",
   "execution_count": 31,
   "metadata": {},
   "outputs": [
    {
     "data": {
      "text/plain": [
       "{'recall': 89.90825688073394,\n",
       " 'precision': 94.23076923076923,\n",
       " 'accuracy': 91.37055837563452,\n",
       " 'f1': 92.01877934272301,\n",
       " 'mcc': 0.8274573012858999,\n",
       " 'pr_auc': 0.9834670431035232}"
      ]
     },
     "execution_count": 31,
     "metadata": {},
     "output_type": "execute_result"
    }
   ],
   "source": [
    "metrics_lr"
   ]
  },
  {
   "cell_type": "markdown",
   "metadata": {},
   "source": [
    "# <font color = red> Model - KNN</font>\n"
   ]
  },
  {
   "cell_type": "code",
   "execution_count": 32,
   "metadata": {},
   "outputs": [],
   "source": [
    "knn = GridSearchCV(KNeighborsClassifier(), {'n_neighbors' : [2,3,4,5,20,25,30,40,50]}, scoring='recall', refit = True, verbose = 1)"
   ]
  },
  {
   "cell_type": "code",
   "execution_count": 33,
   "metadata": {},
   "outputs": [
    {
     "name": "stdout",
     "output_type": "stream",
     "text": [
      "Fitting 5 folds for each of 9 candidates, totalling 45 fits\n"
     ]
    }
   ],
   "source": [
    "\n",
    "startknn = timeit.default_timer()\n",
    "knn.fit(X_train, y_train.ravel())\n",
    "\n",
    "y_pred_knn = knn.predict(X_test)\n",
    "\n",
    "endknn = timeit.default_timer()\n",
    "\n"
   ]
  },
  {
   "cell_type": "code",
   "execution_count": 34,
   "metadata": {},
   "outputs": [
    {
     "data": {
      "text/plain": [
       "{'n_neighbors': 3}"
      ]
     },
     "execution_count": 34,
     "metadata": {},
     "output_type": "execute_result"
    }
   ],
   "source": [
    "knn.best_params_"
   ]
  },
  {
   "cell_type": "code",
   "execution_count": 35,
   "metadata": {},
   "outputs": [],
   "source": [
    "cm_knn = confusion_matrix(y_test, y_pred_knn)\n",
    "\n",
    "metrics_knn = calc_metrics(cm_knn)"
   ]
  },
  {
   "cell_type": "code",
   "execution_count": 36,
   "metadata": {},
   "outputs": [
    {
     "name": "stdout",
     "output_type": "stream",
     "text": [
      "Training Time:  5.558040499999947\n",
      "recall 93.57798165137615\n",
      "precision 94.44444444444444\n",
      "accuracy 93.4010152284264\n",
      "f1 94.00921658986175\n",
      "mcc 0.8666949086749612\n"
     ]
    }
   ],
   "source": [
    "print(\"Training Time: \", endknn - startknn)\n",
    "for k,v in metrics_knn.items():\n",
    "    print(k,v)"
   ]
  },
  {
   "cell_type": "code",
   "execution_count": 37,
   "metadata": {
    "scrolled": false
   },
   "outputs": [
    {
     "data": {
      "image/png": "[encoded data removed]",
      "text/plain": [
       "<Figure size 576x432 with 2 Axes>"
      ]
     },
     "metadata": {},
     "output_type": "display_data"
    }
   ],
   "source": [
    "name = \"KNN\"\n",
    "plot_confusion_matrix(cm_knn, name)\n"
   ]
  },
  {
   "cell_type": "code",
   "execution_count": 38,
   "metadata": {
    "scrolled": false
   },
   "outputs": [
    {
     "data": {
      "image/png": "[encoded data removed]",
      "text/plain": [
       "<Figure size 576x432 with 1 Axes>"
      ]
     },
     "metadata": {},
     "output_type": "display_data"
    }
   ],
   "source": [
    "prec_knn, rec_knn, th_knn = precision_recall_curve(y_test, knn.predict_proba(X_test)[:,1])\n",
    "plot_prcurve(prec_knn, rec_knn, \"KNN\")"
   ]
  },
  {
   "cell_type": "code",
   "execution_count": 39,
   "metadata": {},
   "outputs": [
    {
     "data": {
      "text/plain": [
       "0.966097016351847"
      ]
     },
     "execution_count": 39,
     "metadata": {},
     "output_type": "execute_result"
    }
   ],
   "source": [
    "pr_auc_knn = auc(rec_knn, prec_knn)\n",
    "pr_auc_knn"
   ]
  },
  {
   "cell_type": "markdown",
   "metadata": {},
   "source": [
    "# <font color=red> Model Random Forest</font>"
   ]
  },
  {
   "cell_type": "code",
   "execution_count": 40,
   "metadata": {},
   "outputs": [],
   "source": [
    "rfc = RandomForestClassifier(n_estimators = 100, random_state = 123)\n"
   ]
  },
  {
   "cell_type": "code",
   "execution_count": 41,
   "metadata": {},
   "outputs": [],
   "source": [
    "startrfc = timeit.default_timer()\n",
    "rfc.fit(X_train, y_train.ravel())\n",
    "endrfc = timeit.default_timer()"
   ]
  },
  {
   "cell_type": "code",
   "execution_count": 42,
   "metadata": {},
   "outputs": [],
   "source": [
    "y_pred_rfc = rfc.predict(X_test)"
   ]
  },
  {
   "cell_type": "code",
   "execution_count": 43,
   "metadata": {},
   "outputs": [],
   "source": [
    "cm_rfc = confusion_matrix(y_test, y_pred_rfc)\n",
    "\n",
    "metrics_rfc = calc_metrics(cm_rfc)"
   ]
  },
  {
   "cell_type": "code",
   "execution_count": 44,
   "metadata": {},
   "outputs": [
    {
     "name": "stdout",
     "output_type": "stream",
     "text": [
      "Training Time:  0.2906600999999682\n",
      "recall 91.74311926605505\n",
      "precision 95.23809523809524\n",
      "accuracy 92.89340101522842\n",
      "f1 93.45794392523365\n",
      "mcc 0.8575785886220075\n"
     ]
    }
   ],
   "source": [
    "print(\"Training Time: \", endrfc - startrfc)\n",
    "for k,v in metrics_rfc.items():\n",
    "    print(k,v)"
   ]
  },
  {
   "cell_type": "code",
   "execution_count": 45,
   "metadata": {},
   "outputs": [
    {
     "data": {
      "image/png": "[encoded data removed]",
      "text/plain": [
       "<Figure size 576x432 with 2 Axes>"
      ]
     },
     "metadata": {},
     "output_type": "display_data"
    }
   ],
   "source": [
    "name = \"Random Forest\"\n",
    "plot_confusion_matrix(cm_rfc, name)\n"
   ]
  },
  {
   "cell_type": "code",
   "execution_count": 46,
   "metadata": {
    "scrolled": false
   },
   "outputs": [
    {
     "data": {
      "image/png": "[encoded data removed]",
      "text/plain": [
       "<Figure size 576x432 with 1 Axes>"
      ]
     },
     "metadata": {},
     "output_type": "display_data"
    }
   ],
   "source": [
    "prec_rfc, rec_rfc, th_rfc = precision_recall_curve(y_test, rfc.predict_proba(X_test)[:,1])\n",
    "plot_prcurve(prec_rfc, rec_rfc, \"Random Forest\")"
   ]
  },
  {
   "cell_type": "code",
   "execution_count": 47,
   "metadata": {},
   "outputs": [
    {
     "data": {
      "text/plain": [
       "0.9881254698175412"
      ]
     },
     "execution_count": 47,
     "metadata": {},
     "output_type": "execute_result"
    }
   ],
   "source": [
    "pr_auc_rfc = auc(rec_rfc, prec_rfc)\n",
    "pr_auc_rfc"
   ]
  },
  {
   "cell_type": "markdown",
   "metadata": {},
   "source": [
    "# <font color=red> Model - Decision Tree </font>"
   ]
  },
  {
   "cell_type": "code",
   "execution_count": 48,
   "metadata": {},
   "outputs": [],
   "source": [
    "dt = DecisionTreeClassifier(random_state = 123, class_weight = class_weights)"
   ]
  },
  {
   "cell_type": "code",
   "execution_count": 49,
   "metadata": {},
   "outputs": [],
   "source": [
    "startdt = timeit.default_timer()\n",
    "dt.fit(X_train, y_train.ravel())\n",
    "enddt = timeit.default_timer()"
   ]
  },
  {
   "cell_type": "code",
   "execution_count": 50,
   "metadata": {},
   "outputs": [],
   "source": [
    "y_pred_dt = dt.predict(X_test)"
   ]
  },
  {
   "cell_type": "code",
   "execution_count": 51,
   "metadata": {},
   "outputs": [],
   "source": [
    "cm_dt = confusion_matrix(y_test, y_pred_dt)\n",
    "\n",
    "metrics_dt = calc_metrics(cm_dt)"
   ]
  },
  {
   "cell_type": "code",
   "execution_count": 52,
   "metadata": {},
   "outputs": [
    {
     "name": "stdout",
     "output_type": "stream",
     "text": [
      "Training Time:  0.02499310000001742\n",
      "recall 88.07339449541284\n",
      "precision 92.3076923076923\n",
      "accuracy 89.34010152284264\n",
      "f1 90.14084507042254\n",
      "mcc 0.7865516329412771\n"
     ]
    }
   ],
   "source": [
    "print(\"Training Time: \", enddt - startdt)\n",
    "for k,v in metrics_dt.items():\n",
    "    print(k,v)"
   ]
  },
  {
   "cell_type": "code",
   "execution_count": 53,
   "metadata": {
    "scrolled": false
   },
   "outputs": [
    {
     "data": {
      "image/png": "[encoded data removed]",
      "text/plain": [
       "<Figure size 576x432 with 2 Axes>"
      ]
     },
     "metadata": {},
     "output_type": "display_data"
    }
   ],
   "source": [
    "name = \"Decision Tree\"\n",
    "plot_confusion_matrix(cm_dt, name)\n"
   ]
  },
  {
   "cell_type": "code",
   "execution_count": 54,
   "metadata": {},
   "outputs": [
    {
     "data": {
      "image/png": "[encoded data removed]",
      "text/plain": [
       "<Figure size 576x432 with 1 Axes>"
      ]
     },
     "metadata": {},
     "output_type": "display_data"
    }
   ],
   "source": [
    "prec_dt, rec_dt, th = precision_recall_curve(y_test, dt.predict_proba(X_test)[:,1])\n",
    "plot_prcurve(prec_dt, rec_dt, \"Decision Tree\")"
   ]
  },
  {
   "cell_type": "code",
   "execution_count": 55,
   "metadata": {},
   "outputs": [
    {
     "data": {
      "text/plain": [
       "0.9349003578733938"
      ]
     },
     "execution_count": 55,
     "metadata": {},
     "output_type": "execute_result"
    }
   ],
   "source": [
    "pr_auc_dt = auc(rec_dt, prec_dt)\n",
    "pr_auc_dt"
   ]
  },
  {
   "cell_type": "markdown",
   "metadata": {},
   "source": [
    "# <font color=red> Model - GaussianNB"
   ]
  },
  {
   "cell_type": "code",
   "execution_count": 56,
   "metadata": {},
   "outputs": [],
   "source": [
    "nb = GaussianNB()"
   ]
  },
  {
   "cell_type": "code",
   "execution_count": 57,
   "metadata": {},
   "outputs": [],
   "source": [
    "startnb = timeit.default_timer()\n",
    "nb.fit(X_train, y_train.ravel())\n",
    "endnb = timeit.default_timer()"
   ]
  },
  {
   "cell_type": "code",
   "execution_count": 58,
   "metadata": {},
   "outputs": [],
   "source": [
    "y_pred_nb = nb.predict(X_test)"
   ]
  },
  {
   "cell_type": "code",
   "execution_count": 59,
   "metadata": {},
   "outputs": [],
   "source": [
    "cm_nb = confusion_matrix(y_test, y_pred_nb)\n",
    "\n",
    "metrics_nb = calc_metrics(cm_nb)"
   ]
  },
  {
   "cell_type": "code",
   "execution_count": 60,
   "metadata": {},
   "outputs": [
    {
     "name": "stdout",
     "output_type": "stream",
     "text": [
      "Training Time:  0.005943800000011379\n",
      "recall 87.1559633027523\n",
      "precision 98.95833333333333\n",
      "accuracy 92.38578680203045\n",
      "f1 92.6829268292683\n",
      "mcc 0.8555702969669753\n"
     ]
    }
   ],
   "source": [
    "print(\"Training Time: \", endnb - startnb)\n",
    "for k,v in metrics_nb.items():\n",
    "    print(k,v)"
   ]
  },
  {
   "cell_type": "code",
   "execution_count": 61,
   "metadata": {},
   "outputs": [
    {
     "data": {
      "image/png": "[encoded data removed]",
      "text/plain": [
       "<Figure size 576x432 with 2 Axes>"
      ]
     },
     "metadata": {},
     "output_type": "display_data"
    }
   ],
   "source": [
    "name = \"Naive Bayes\"\n",
    "plot_confusion_matrix(cm_nb, name)\n"
   ]
  },
  {
   "cell_type": "code",
   "execution_count": 62,
   "metadata": {},
   "outputs": [],
   "source": [
    "prec_nb, rec_nb, _ = precision_recall_curve(y_test, nb.predict_proba(X_test)[:,1])"
   ]
  },
  {
   "cell_type": "code",
   "execution_count": 63,
   "metadata": {
    "scrolled": false
   },
   "outputs": [
    {
     "data": {
      "image/png": "[encoded data removed]",
      "text/plain": [
       "<Figure size 576x432 with 1 Axes>"
      ]
     },
     "metadata": {},
     "output_type": "display_data"
    }
   ],
   "source": [
    "plot_prcurve(prec_nb, rec_nb, name)"
   ]
  },
  {
   "cell_type": "code",
   "execution_count": 64,
   "metadata": {},
   "outputs": [
    {
     "data": {
      "text/plain": [
       "0.9803373439937363"
      ]
     },
     "execution_count": 64,
     "metadata": {},
     "output_type": "execute_result"
    }
   ],
   "source": [
    "pr_auc_nb = auc(rec_nb, prec_nb)\n",
    "pr_auc_nb"
   ]
  },
  {
   "cell_type": "markdown",
   "metadata": {},
   "source": [
    "# <font color=red> Model - Complement NB"
   ]
  },
  {
   "cell_type": "code",
   "execution_count": 65,
   "metadata": {},
   "outputs": [],
   "source": [
    "from sklearn.preprocessing import MinMaxScaler"
   ]
  },
  {
   "cell_type": "code",
   "execution_count": 66,
   "metadata": {},
   "outputs": [],
   "source": [
    "mms = MinMaxScaler()"
   ]
  },
  {
   "cell_type": "code",
   "execution_count": 67,
   "metadata": {},
   "outputs": [],
   "source": [
    "X_train_mms = mms.fit_transform(X_train)\n",
    "X_test_mms = mms.transform(X_test)"
   ]
  },
  {
   "cell_type": "code",
   "execution_count": 68,
   "metadata": {},
   "outputs": [],
   "source": [
    "cnb = ComplementNB()"
   ]
  },
  {
   "cell_type": "code",
   "execution_count": 69,
   "metadata": {},
   "outputs": [],
   "source": [
    "startcnb = timeit.default_timer()\n",
    "cnb.fit(X_train_mms, y_train.ravel())\n",
    "endcnb = timeit.default_timer()"
   ]
  },
  {
   "cell_type": "code",
   "execution_count": 70,
   "metadata": {},
   "outputs": [],
   "source": [
    "y_pred_cnb = cnb.predict(X_test_mms)"
   ]
  },
  {
   "cell_type": "code",
   "execution_count": 71,
   "metadata": {},
   "outputs": [],
   "source": [
    "cm_cnb = confusion_matrix(y_test, y_pred_cnb)\n",
    "\n",
    "metrics_cnb = calc_metrics(cm_cnb)"
   ]
  },
  {
   "cell_type": "code",
   "execution_count": 72,
   "metadata": {},
   "outputs": [
    {
     "name": "stdout",
     "output_type": "stream",
     "text": [
      "Training Time:  0.0027072999999973035\n",
      "recall 78.89908256880734\n",
      "precision 100.0\n",
      "accuracy 88.3248730964467\n",
      "f1 88.2051282051282\n",
      "mcc 0.7908895246399077\n"
     ]
    }
   ],
   "source": [
    "print(\"Training Time: \", endcnb - startcnb)\n",
    "for k,v in metrics_cnb.items():\n",
    "    print(k,v)"
   ]
  },
  {
   "cell_type": "code",
   "execution_count": 73,
   "metadata": {},
   "outputs": [
    {
     "data": {
      "image/png": "[encoded data removed]",
      "text/plain": [
       "<Figure size 576x432 with 2 Axes>"
      ]
     },
     "metadata": {},
     "output_type": "display_data"
    }
   ],
   "source": [
    "name = \"Naive Bayes\"\n",
    "plot_confusion_matrix(cm_cnb, name)\n"
   ]
  },
  {
   "cell_type": "code",
   "execution_count": 74,
   "metadata": {},
   "outputs": [],
   "source": [
    "prec_cnb, rec_cnb, _ = precision_recall_curve(y_test, cnb.predict_proba(X_test_mms)[:,1])"
   ]
  },
  {
   "cell_type": "code",
   "execution_count": 75,
   "metadata": {},
   "outputs": [
    {
     "data": {
      "image/png": "[encoded data removed]",
      "text/plain": [
       "<Figure size 576x432 with 1 Axes>"
      ]
     },
     "metadata": {},
     "output_type": "display_data"
    }
   ],
   "source": [
    "plot_prcurve(prec_cnb, rec_cnb, name)"
   ]
  },
  {
   "cell_type": "code",
   "execution_count": 76,
   "metadata": {},
   "outputs": [
    {
     "data": {
      "text/plain": [
       "0.9847424346381078"
      ]
     },
     "execution_count": 76,
     "metadata": {},
     "output_type": "execute_result"
    }
   ],
   "source": [
    "pr_auc_cnb = auc(rec_cnb, prec_cnb)\n",
    "pr_auc_cnb"
   ]
  },
  {
   "cell_type": "markdown",
   "metadata": {},
   "source": [
    "\n",
    "# <font color = red> Model - Ada Boost with base learners as Logistic Regression"
   ]
  },
  {
   "cell_type": "code",
   "execution_count": 77,
   "metadata": {},
   "outputs": [],
   "source": [
    "ada = AdaBoostClassifier(base_estimator = lr, n_estimators=100, random_state = 123)"
   ]
  },
  {
   "cell_type": "code",
   "execution_count": 78,
   "metadata": {
    "scrolled": false
   },
   "outputs": [
    {
     "name": "stdout",
     "output_type": "stream",
     "text": [
      "[LibLinear][LibLinear][LibLinear][LibLinear][LibLinear][LibLinear][LibLinear][LibLinear][LibLinear][LibLinear][LibLinear][LibLinear][LibLinear][LibLinear][LibLinear][LibLinear][LibLinear][LibLinear][LibLinear][LibLinear][LibLinear][LibLinear][LibLinear][LibLinear][LibLinear][LibLinear][LibLinear][LibLinear][LibLinear][LibLinear][LibLinear][LibLinear][LibLinear][LibLinear][LibLinear][LibLinear][LibLinear][LibLinear][LibLinear][LibLinear][LibLinear][LibLinear][LibLinear][LibLinear][LibLinear][LibLinear][LibLinear][LibLinear][LibLinear][LibLinear][LibLinear][LibLinear][LibLinear][LibLinear][LibLinear][LibLinear][LibLinear][LibLinear][LibLinear][LibLinear][LibLinear][LibLinear][LibLinear][LibLinear][LibLinear][LibLinear][LibLinear][LibLinear][LibLinear][LibLinear][LibLinear][LibLinear][LibLinear][LibLinear][LibLinear][LibLinear][LibLinear][LibLinear][LibLinear][LibLinear][LibLinear][LibLinear][LibLinear][LibLinear][LibLinear][LibLinear][LibLinear][LibLinear][LibLinear][LibLinear][LibLinear][LibLinear][LibLinear][LibLinear][LibLinear][LibLinear][LibLinear][LibLinear][LibLinear][LibLinear]"
     ]
    }
   ],
   "source": [
    "startada = timeit.default_timer()\n",
    "ada.fit(X_train, y_train.ravel())\n",
    "endada = timeit.default_timer()"
   ]
  },
  {
   "cell_type": "code",
   "execution_count": 79,
   "metadata": {},
   "outputs": [],
   "source": [
    "y_pred_ada = ada.predict(X_test)"
   ]
  },
  {
   "cell_type": "code",
   "execution_count": 80,
   "metadata": {},
   "outputs": [],
   "source": [
    "cm_ada = confusion_matrix(y_test, y_pred_ada)\n",
    "\n",
    "metrics_ada = calc_metrics(cm_ada)"
   ]
  },
  {
   "cell_type": "code",
   "execution_count": 81,
   "metadata": {},
   "outputs": [
    {
     "name": "stdout",
     "output_type": "stream",
     "text": [
      "Training Time:  3.754104199999972\n",
      "recall 95.41284403669725\n",
      "precision 72.72727272727273\n",
      "accuracy 77.66497461928934\n",
      "f1 82.53968253968254\n",
      "mcc 0.5694626159659945\n"
     ]
    }
   ],
   "source": [
    "print(\"Training Time: \", endada - startada)\n",
    "for k,v in metrics_ada.items():\n",
    "    print(k,v)"
   ]
  },
  {
   "cell_type": "code",
   "execution_count": 82,
   "metadata": {},
   "outputs": [
    {
     "data": {
      "image/png": "[encoded data removed]",
      "text/plain": [
       "<Figure size 576x432 with 2 Axes>"
      ]
     },
     "metadata": {},
     "output_type": "display_data"
    }
   ],
   "source": [
    "name = \"AdaBoost Classifier\"\n",
    "plot_confusion_matrix(cm_ada, name)\n"
   ]
  },
  {
   "cell_type": "code",
   "execution_count": 83,
   "metadata": {},
   "outputs": [],
   "source": [
    "prec_ada, rec_ada, _ = precision_recall_curve(y_test, ada.predict_proba(X_test)[:,1])"
   ]
  },
  {
   "cell_type": "code",
   "execution_count": 84,
   "metadata": {
    "scrolled": false
   },
   "outputs": [
    {
     "data": {
      "image/png": "[encoded data removed]",
      "text/plain": [
       "<Figure size 576x432 with 1 Axes>"
      ]
     },
     "metadata": {},
     "output_type": "display_data"
    }
   ],
   "source": [
    "plot_prcurve(prec_ada, rec_ada, name)"
   ]
  },
  {
   "cell_type": "code",
   "execution_count": 85,
   "metadata": {},
   "outputs": [
    {
     "data": {
      "text/plain": [
       "0.9710159207507426"
      ]
     },
     "execution_count": 85,
     "metadata": {},
     "output_type": "execute_result"
    }
   ],
   "source": [
    "pr_auc_ada = auc(rec_ada, prec_ada)\n",
    "pr_auc_ada"
   ]
  },
  {
   "cell_type": "markdown",
   "metadata": {},
   "source": [
    "# <font color=red> Model - Gradient Boosting"
   ]
  },
  {
   "cell_type": "code",
   "execution_count": 86,
   "metadata": {},
   "outputs": [],
   "source": [
    "gb = GradientBoostingClassifier(n_estimators = 100, random_state = 123)"
   ]
  },
  {
   "cell_type": "code",
   "execution_count": 87,
   "metadata": {},
   "outputs": [],
   "source": [
    "startgb = timeit.default_timer()\n",
    "gb.fit(X_train, y_train.ravel())\n",
    "endgb = timeit.default_timer()"
   ]
  },
  {
   "cell_type": "code",
   "execution_count": 88,
   "metadata": {},
   "outputs": [],
   "source": [
    "y_pred_gb = gb.predict(X_test)"
   ]
  },
  {
   "cell_type": "code",
   "execution_count": 89,
   "metadata": {},
   "outputs": [],
   "source": [
    "cm_gb = confusion_matrix(y_test, y_pred_gb)\n",
    "\n",
    "metrics_gb = calc_metrics(cm_gb)"
   ]
  },
  {
   "cell_type": "code",
   "execution_count": 90,
   "metadata": {},
   "outputs": [
    {
     "name": "stdout",
     "output_type": "stream",
     "text": [
      "Training Time:  0.37919180000000097\n",
      "recall 92.66055045871559\n",
      "precision 94.39252336448598\n",
      "accuracy 92.89340101522842\n",
      "f1 93.5185185185185\n",
      "mcc 0.8567283414688497\n"
     ]
    }
   ],
   "source": [
    "print(\"Training Time: \", endgb - startgb)\n",
    "for k,v in metrics_gb.items():\n",
    "    print(k,v)"
   ]
  },
  {
   "cell_type": "code",
   "execution_count": 91,
   "metadata": {},
   "outputs": [
    {
     "data": {
      "image/png": "[encoded data removed]",
      "text/plain": [
       "<Figure size 576x432 with 2 Axes>"
      ]
     },
     "metadata": {},
     "output_type": "display_data"
    }
   ],
   "source": [
    "name = \"Gradient Boosting Classifier\"\n",
    "plot_confusion_matrix(cm_gb, name)\n"
   ]
  },
  {
   "cell_type": "code",
   "execution_count": 92,
   "metadata": {},
   "outputs": [],
   "source": [
    "prec_gb, rec_gb, _ = precision_recall_curve(y_test, gb.predict_proba(X_test)[:,1])"
   ]
  },
  {
   "cell_type": "code",
   "execution_count": 93,
   "metadata": {
    "scrolled": false
   },
   "outputs": [
    {
     "data": {
      "image/png": "[encoded data removed]",
      "text/plain": [
       "<Figure size 576x432 with 1 Axes>"
      ]
     },
     "metadata": {},
     "output_type": "display_data"
    }
   ],
   "source": [
    "plot_prcurve(prec_gb, rec_gb, name)"
   ]
  },
  {
   "cell_type": "code",
   "execution_count": 94,
   "metadata": {},
   "outputs": [
    {
     "data": {
      "text/plain": [
       "0.9899102139872492"
      ]
     },
     "execution_count": 94,
     "metadata": {},
     "output_type": "execute_result"
    }
   ],
   "source": [
    "pr_auc_gb = auc(rec_gb, prec_gb)\n",
    "pr_auc_gb"
   ]
  },
  {
   "cell_type": "markdown",
   "metadata": {},
   "source": [
    "# <font color=red> Model - XG Boost"
   ]
  },
  {
   "cell_type": "code",
   "execution_count": 95,
   "metadata": {},
   "outputs": [],
   "source": [
    "xgb = xgboost.XGBClassifier(objective=\"binary:logistic\", random_state=42, verbose=2)"
   ]
  },
  {
   "cell_type": "code",
   "execution_count": 96,
   "metadata": {},
   "outputs": [
    {
     "name": "stdout",
     "output_type": "stream",
     "text": [
      "[18:27:16] WARNING: C:/Users/Administrator/workspace/xgboost-win64_release_1.6.0/src/learner.cc:627: \n",
      "Parameters: { \"verbose\" } might not be used.\n",
      "\n",
      "  This could be a false alarm, with some parameters getting used by language bindings but\n",
      "  then being mistakenly passed down to XGBoost core, or some parameter actually being used\n",
      "  but getting flagged wrongly here. Please open an issue if you find any such cases.\n",
      "\n",
      "\n"
     ]
    }
   ],
   "source": [
    "startxgb = timeit.default_timer()\n",
    "xgb.fit(X_train, y_train.ravel())\n",
    "endxgb = timeit.default_timer()"
   ]
  },
  {
   "cell_type": "code",
   "execution_count": 97,
   "metadata": {},
   "outputs": [],
   "source": [
    "y_pred_xgb = xgb.predict(X_test)"
   ]
  },
  {
   "cell_type": "code",
   "execution_count": 98,
   "metadata": {},
   "outputs": [],
   "source": [
    "cm_xgb = confusion_matrix(y_test, y_pred_xgb)\n",
    "\n",
    "metrics_xgb = calc_metrics(cm_xgb)"
   ]
  },
  {
   "cell_type": "code",
   "execution_count": 99,
   "metadata": {},
   "outputs": [
    {
     "data": {
      "text/plain": [
       "array([[ 81,   7],\n",
       "       [  8, 101]], dtype=int64)"
      ]
     },
     "execution_count": 99,
     "metadata": {},
     "output_type": "execute_result"
    }
   ],
   "source": [
    "cm_xgb"
   ]
  },
  {
   "cell_type": "code",
   "execution_count": 100,
   "metadata": {},
   "outputs": [
    {
     "name": "stdout",
     "output_type": "stream",
     "text": [
      "Training Time:  1.434008399999982\n",
      "recall 92.66055045871559\n",
      "precision 93.51851851851852\n",
      "accuracy 92.38578680203045\n",
      "f1 93.08755760368665\n",
      "mcc 0.8461783384984451\n"
     ]
    }
   ],
   "source": [
    "print(\"Training Time: \", endxgb - startxgb)\n",
    "for k,v in metrics_xgb.items():\n",
    "    print(k,v)"
   ]
  },
  {
   "cell_type": "code",
   "execution_count": 101,
   "metadata": {},
   "outputs": [
    {
     "data": {
      "image/png": "[encoded data removed]",
      "text/plain": [
       "<Figure size 576x432 with 2 Axes>"
      ]
     },
     "metadata": {},
     "output_type": "display_data"
    }
   ],
   "source": [
    "name = \"Extreme Gradient Boosting\"\n",
    "plot_confusion_matrix(cm_xgb, name)\n"
   ]
  },
  {
   "cell_type": "code",
   "execution_count": 102,
   "metadata": {},
   "outputs": [],
   "source": [
    "prec_xgb, rec_xgb, _ = precision_recall_curve(y_test, xgb.predict_proba(X_test)[:,1])"
   ]
  },
  {
   "cell_type": "code",
   "execution_count": 103,
   "metadata": {
    "scrolled": false
   },
   "outputs": [
    {
     "data": {
      "image/png": "[encoded data removed]",
      "text/plain": [
       "<Figure size 576x432 with 1 Axes>"
      ]
     },
     "metadata": {},
     "output_type": "display_data"
    }
   ],
   "source": [
    "plot_prcurve(prec_xgb, rec_xgb, name)"
   ]
  },
  {
   "cell_type": "code",
   "execution_count": 104,
   "metadata": {},
   "outputs": [
    {
     "data": {
      "text/plain": [
       "0.9887358855523358"
      ]
     },
     "execution_count": 104,
     "metadata": {},
     "output_type": "execute_result"
    }
   ],
   "source": [
    "pr_auc_xgb = auc(rec_xgb, prec_xgb)\n",
    "pr_auc_xgb"
   ]
  },
  {
   "cell_type": "markdown",
   "metadata": {},
   "source": [
    "# <font color=red> LGBM"
   ]
  },
  {
   "cell_type": "code",
   "execution_count": 145,
   "metadata": {},
   "outputs": [],
   "source": [
    "lgbm = LGBMClassifier()"
   ]
  },
  {
   "cell_type": "code",
   "execution_count": 146,
   "metadata": {},
   "outputs": [],
   "source": [
    "startlgbm = timeit.default_timer()\n",
    "lgbm.fit(X_train, y_train.ravel())\n",
    "endlgbm = timeit.default_timer()"
   ]
  },
  {
   "cell_type": "code",
   "execution_count": 147,
   "metadata": {},
   "outputs": [],
   "source": [
    "y_pred_lgbm = lgbm.predict(X_test)"
   ]
  },
  {
   "cell_type": "code",
   "execution_count": 149,
   "metadata": {},
   "outputs": [],
   "source": [
    "cm_lgbm = confusion_matrix(y_test, y_pred_lgbm)\n",
    "\n",
    "metrics_lgbm = calc_metrics(cm_lgbm)"
   ]
  },
  {
   "cell_type": "code",
   "execution_count": 150,
   "metadata": {
    "scrolled": true
   },
   "outputs": [
    {
     "name": "stdout",
     "output_type": "stream",
     "text": [
      "Training Time:  0.21188940000138246\n",
      "recall 89.90825688073394\n",
      "precision 94.23076923076923\n",
      "accuracy 91.37055837563452\n",
      "f1 92.01877934272301\n",
      "mcc 0.8274573012858999\n"
     ]
    }
   ],
   "source": [
    "print(\"Training Time: \", endlgbm - startlgbm)\n",
    "for k,v in metrics_lgbm.items():\n",
    "    print(k,v)"
   ]
  },
  {
   "cell_type": "code",
   "execution_count": 151,
   "metadata": {},
   "outputs": [
    {
     "data": {
      "image/png": "[encoded data removed]",
      "text/plain": [
       "<Figure size 576x432 with 2 Axes>"
      ]
     },
     "metadata": {},
     "output_type": "display_data"
    }
   ],
   "source": [
    "name = \"LGBM\"\n",
    "plot_confusion_matrix(cm_lgbm, name)\n"
   ]
  },
  {
   "cell_type": "code",
   "execution_count": 152,
   "metadata": {},
   "outputs": [
    {
     "data": {
      "image/png": "[encoded data removed]",
      "text/plain": [
       "<Figure size 576x432 with 1 Axes>"
      ]
     },
     "metadata": {},
     "output_type": "display_data"
    }
   ],
   "source": [
    "prec_lgbm, rec_lgbm, _ = precision_recall_curve(y_test, lgbm.predict_proba(X_test)[:,1])\n",
    "plot_prcurve(prec_lgbm, rec_lgbm, name)"
   ]
  },
  {
   "cell_type": "code",
   "execution_count": 153,
   "metadata": {},
   "outputs": [
    {
     "data": {
      "text/plain": [
       "0.9861704004922117"
      ]
     },
     "execution_count": 153,
     "metadata": {},
     "output_type": "execute_result"
    }
   ],
   "source": [
    "pr_auc_lgbm = auc(rec_lgbm, prec_lgbm)\n",
    "pr_auc_lgbm"
   ]
  },
  {
   "cell_type": "markdown",
   "metadata": {},
   "source": [
    "# <font color=red> Model - SGD (One class SVM)"
   ]
  },
  {
   "cell_type": "code",
   "execution_count": 105,
   "metadata": {
    "scrolled": true
   },
   "outputs": [],
   "source": [
    "from sklearn.linear_model import SGDOneClassSVM\n",
    "from sklearn.svm import OneClassSVM\n",
    "import timeit\n",
    "import numpy"
   ]
  },
  {
   "cell_type": "code",
   "execution_count": 106,
   "metadata": {},
   "outputs": [],
   "source": [
    "svc = SGDOneClassSVM(max_iter = 100)"
   ]
  },
  {
   "cell_type": "code",
   "execution_count": 107,
   "metadata": {},
   "outputs": [],
   "source": [
    "startsvc= timeit.default_timer()\n",
    "svc.fit(X_train)\n",
    "endsvc = timeit.default_timer()"
   ]
  },
  {
   "cell_type": "code",
   "execution_count": 108,
   "metadata": {},
   "outputs": [],
   "source": [
    "y_pred_svc = svc.predict(X_test)"
   ]
  },
  {
   "cell_type": "code",
   "execution_count": 109,
   "metadata": {},
   "outputs": [
    {
     "data": {
      "text/plain": [
       "numpy.ndarray"
      ]
     },
     "execution_count": 109,
     "metadata": {},
     "output_type": "execute_result"
    }
   ],
   "source": [
    "type(y_pred_svc)"
   ]
  },
  {
   "cell_type": "code",
   "execution_count": 110,
   "metadata": {},
   "outputs": [],
   "source": [
    "cm_svc = confusion_matrix(y_test, y_pred_svc)\n",
    "\n",
    "act_cm_svc = [x for i in cm_svc for x in i if x!=0]\n",
    "cmsvc = numpy.array(act_cm_svc)\n",
    "metrics_svc = calc_metrics(cmsvc)"
   ]
  },
  {
   "cell_type": "code",
   "execution_count": 111,
   "metadata": {},
   "outputs": [
    {
     "name": "stdout",
     "output_type": "stream",
     "text": [
      "Training Time:  0.007444899999995869\n",
      "recall 91.74311926605505\n",
      "precision 89.28571428571429\n",
      "accuracy 89.34010152284264\n",
      "f1 90.49773755656108\n",
      "mcc 0.7840156095556652\n"
     ]
    }
   ],
   "source": [
    "print(\"Training Time: \", endsvc - startsvc)\n",
    "for k,v in metrics_svc.items():\n",
    "    print(k,v)"
   ]
  },
  {
   "cell_type": "code",
   "execution_count": 112,
   "metadata": {
    "scrolled": false
   },
   "outputs": [
    {
     "data": {
      "image/png": "[encoded data removed]",
      "text/plain": [
       "<Figure size 576x432 with 2 Axes>"
      ]
     },
     "metadata": {},
     "output_type": "display_data"
    }
   ],
   "source": [
    "name = \"One Class SVM\"\n",
    "plot_confusion_matrix(cmsvc.reshape(2,2), name)\n"
   ]
  },
  {
   "cell_type": "markdown",
   "metadata": {},
   "source": [
    "# <font color=red> Model - MLP Classifier"
   ]
  },
  {
   "cell_type": "code",
   "execution_count": 113,
   "metadata": {},
   "outputs": [],
   "source": [
    "from sklearn.neural_network import MLPClassifier"
   ]
  },
  {
   "cell_type": "code",
   "execution_count": 114,
   "metadata": {},
   "outputs": [],
   "source": [
    "mlp = MLPClassifier(random_state=1, batch_size = 2048, max_iter=100, verbose = True)"
   ]
  },
  {
   "cell_type": "code",
   "execution_count": 115,
   "metadata": {},
   "outputs": [
    {
     "name": "stdout",
     "output_type": "stream",
     "text": [
      "Iteration 1, loss = 0.81203497\n",
      "Iteration 2, loss = 0.72356327\n",
      "Iteration 3, loss = 0.66150853\n",
      "Iteration 4, loss = 0.61902154\n",
      "Iteration 5, loss = 0.58880396\n",
      "Iteration 6, loss = 0.56583269\n",
      "Iteration 7, loss = 0.54712544\n",
      "Iteration 8, loss = 0.53101945\n",
      "Iteration 9, loss = 0.51659648\n",
      "Iteration 10, loss = 0.50336547\n",
      "Iteration 11, loss = 0.49104508\n",
      "Iteration 12, loss = 0.47946231\n",
      "Iteration 13, loss = 0.46851945\n",
      "Iteration 14, loss = 0.45814560\n",
      "Iteration 15, loss = 0.44828427\n",
      "Iteration 16, loss = 0.43888969\n",
      "Iteration 17, loss = 0.42992411\n",
      "Iteration 18, loss = 0.42134743\n",
      "Iteration 19, loss = 0.41311416\n",
      "Iteration 20, loss = 0.40519924\n",
      "Iteration 21, loss = 0.39756902\n",
      "Iteration 22, loss = 0.39020066\n",
      "Iteration 23, loss = 0.38306771\n",
      "Iteration 24, loss = 0.37615910\n",
      "Iteration 25, loss = 0.36945500\n",
      "Iteration 26, loss = 0.36293671\n",
      "Iteration 27, loss = 0.35659505\n",
      "Iteration 28, loss = 0.35042428\n",
      "Iteration 29, loss = 0.34441332\n",
      "Iteration 30, loss = 0.33856280\n",
      "Iteration 31, loss = 0.33286509\n",
      "Iteration 32, loss = 0.32731262\n",
      "Iteration 33, loss = 0.32191125\n",
      "Iteration 34, loss = 0.31665946\n",
      "Iteration 35, loss = 0.31155170\n",
      "Iteration 36, loss = 0.30658654\n",
      "Iteration 37, loss = 0.30175670\n",
      "Iteration 38, loss = 0.29705838\n",
      "Iteration 39, loss = 0.29249237\n",
      "Iteration 40, loss = 0.28805992\n",
      "Iteration 41, loss = 0.28375435\n",
      "Iteration 42, loss = 0.27957245\n",
      "Iteration 43, loss = 0.27551147\n",
      "Iteration 44, loss = 0.27156910\n",
      "Iteration 45, loss = 0.26773765\n",
      "Iteration 46, loss = 0.26401087\n",
      "Iteration 47, loss = 0.26038922\n",
      "Iteration 48, loss = 0.25686942\n",
      "Iteration 49, loss = 0.25344723\n",
      "Iteration 50, loss = 0.25012076\n",
      "Iteration 51, loss = 0.24688260\n",
      "Iteration 52, loss = 0.24373244\n",
      "Iteration 53, loss = 0.24066764\n",
      "Iteration 54, loss = 0.23768803\n",
      "Iteration 55, loss = 0.23478734\n",
      "Iteration 56, loss = 0.23196329\n",
      "Iteration 57, loss = 0.22921785\n",
      "Iteration 58, loss = 0.22654624\n",
      "Iteration 59, loss = 0.22394178\n",
      "Iteration 60, loss = 0.22140275\n",
      "Iteration 61, loss = 0.21892569\n",
      "Iteration 62, loss = 0.21651008\n",
      "Iteration 63, loss = 0.21415461\n",
      "Iteration 64, loss = 0.21185506\n",
      "Iteration 65, loss = 0.20961135\n",
      "Iteration 66, loss = 0.20742137\n",
      "Iteration 67, loss = 0.20528135\n",
      "Iteration 68, loss = 0.20318904\n",
      "Iteration 69, loss = 0.20114365\n",
      "Iteration 70, loss = 0.19914768\n",
      "Iteration 71, loss = 0.19720036\n",
      "Iteration 72, loss = 0.19529754\n",
      "Iteration 73, loss = 0.19343667\n",
      "Iteration 74, loss = 0.19162060\n",
      "Iteration 75, loss = 0.18984711\n",
      "Iteration 76, loss = 0.18811431\n",
      "Iteration 77, loss = 0.18642027\n",
      "Iteration 78, loss = 0.18476311\n",
      "Iteration 79, loss = 0.18314090\n",
      "Iteration 80, loss = 0.18155384\n",
      "Iteration 81, loss = 0.18000267\n",
      "Iteration 82, loss = 0.17848593\n",
      "Iteration 83, loss = 0.17700241\n",
      "Iteration 84, loss = 0.17555207\n",
      "Iteration 85, loss = 0.17413345\n",
      "Iteration 86, loss = 0.17274579\n",
      "Iteration 87, loss = 0.17138892\n",
      "Iteration 88, loss = 0.17006057\n",
      "Iteration 89, loss = 0.16875847\n",
      "Iteration 90, loss = 0.16748375\n",
      "Iteration 91, loss = 0.16623486\n",
      "Iteration 92, loss = 0.16501132\n",
      "Iteration 93, loss = 0.16381283\n",
      "Iteration 94, loss = 0.16263919\n",
      "Iteration 95, loss = 0.16148988\n",
      "Iteration 96, loss = 0.16036472\n",
      "Iteration 97, loss = 0.15926328\n",
      "Iteration 98, loss = 0.15818313\n",
      "Iteration 99, loss = 0.15712282\n",
      "Iteration 100, loss = 0.15608222\n"
     ]
    }
   ],
   "source": [
    "startmlp= timeit.default_timer()\n",
    "mlp.fit(X_train, y_train.ravel())\n",
    "endmlp = timeit.default_timer()"
   ]
  },
  {
   "cell_type": "code",
   "execution_count": 116,
   "metadata": {},
   "outputs": [],
   "source": [
    "y_pred_mlp = mlp.predict(X_test)"
   ]
  },
  {
   "cell_type": "code",
   "execution_count": 117,
   "metadata": {},
   "outputs": [],
   "source": [
    "cm_mlp = confusion_matrix(y_test, y_pred_mlp)\n",
    "\n",
    "metrics_mlp = calc_metrics(cm_mlp)"
   ]
  },
  {
   "cell_type": "code",
   "execution_count": 118,
   "metadata": {},
   "outputs": [
    {
     "name": "stdout",
     "output_type": "stream",
     "text": [
      "Training Time:  0.5444573999999989\n",
      "recall 91.74311926605505\n",
      "precision 93.45794392523365\n",
      "accuracy 91.87817258883248\n",
      "f1 92.59259259259258\n",
      "mcc 0.8362309546253516\n"
     ]
    }
   ],
   "source": [
    "print(\"Training Time: \", endmlp - startmlp)\n",
    "for k,v in metrics_mlp.items():\n",
    "    print(k,v)"
   ]
  },
  {
   "cell_type": "code",
   "execution_count": 119,
   "metadata": {
    "scrolled": false
   },
   "outputs": [
    {
     "data": {
      "image/png": "[encoded data removed]",
      "text/plain": [
       "<Figure size 576x432 with 2 Axes>"
      ]
     },
     "metadata": {},
     "output_type": "display_data"
    }
   ],
   "source": [
    "name = \"MLP\"\n",
    "plot_confusion_matrix(cm_mlp, name)\n"
   ]
  },
  {
   "cell_type": "code",
   "execution_count": 120,
   "metadata": {},
   "outputs": [
    {
     "data": {
      "image/png": "[encoded data removed]",
      "text/plain": [
       "<Figure size 576x432 with 1 Axes>"
      ]
     },
     "metadata": {},
     "output_type": "display_data"
    }
   ],
   "source": [
    "prec_mlp, rec_mlp, _ = precision_recall_curve(y_test, mlp.predict_proba(X_test)[:,1])\n",
    "plot_prcurve(prec_mlp, rec_mlp, name)"
   ]
  },
  {
   "cell_type": "code",
   "execution_count": 121,
   "metadata": {},
   "outputs": [
    {
     "data": {
      "text/plain": [
       "0.9847688332307603"
      ]
     },
     "execution_count": 121,
     "metadata": {},
     "output_type": "execute_result"
    }
   ],
   "source": [
    "pr_auc_mlp = auc(rec_mlp, prec_mlp)\n",
    "pr_auc_mlp"
   ]
  },
  {
   "cell_type": "markdown",
   "metadata": {},
   "source": [
    "# <font color = red> Model - ANN\n"
   ]
  },
  {
   "cell_type": "code",
   "execution_count": 122,
   "metadata": {},
   "outputs": [],
   "source": [
    "ann = tf.keras.models.Sequential()"
   ]
  },
  {
   "cell_type": "code",
   "execution_count": 123,
   "metadata": {},
   "outputs": [
    {
     "data": {
      "text/plain": [
       "(787, 18)"
      ]
     },
     "execution_count": 123,
     "metadata": {},
     "output_type": "execute_result"
    }
   ],
   "source": [
    "X_train.shape"
   ]
  },
  {
   "cell_type": "code",
   "execution_count": 124,
   "metadata": {},
   "outputs": [
    {
     "data": {
      "text/plain": [
       "984"
      ]
     },
     "execution_count": 124,
     "metadata": {},
     "output_type": "execute_result"
    }
   ],
   "source": [
    "y = list(df.groupby(['Class'])['Class'].count())\n",
    "total = y[0] + y[1]\n",
    "total"
   ]
  },
  {
   "cell_type": "code",
   "execution_count": 125,
   "metadata": {},
   "outputs": [],
   "source": [
    "metrics = [\n",
    "    tf.keras.metrics.FalseNegatives(name=\"fn\"),\n",
    "    tf.keras.metrics.FalsePositives(name=\"fp\"),\n",
    "    tf.keras.metrics.TrueNegatives(name=\"tn\"),\n",
    "    tf.keras.metrics.TruePositives(name=\"tp\"),\n",
    "    tf.keras.metrics.Precision(name=\"precision\"),\n",
    "    tf.keras.metrics.Recall(name=\"recall\"),\n",
    "    tf.keras.metrics.Accuracy(name=\"Accuracy\"),\n",
    "]\n",
    "\n",
    "w0 = total/(2 * y[0])\n",
    "w1 = total/(2 * y[1])\n",
    "class_weight = {0: w0, 1:w1}\n"
   ]
  },
  {
   "cell_type": "code",
   "execution_count": 126,
   "metadata": {},
   "outputs": [],
   "source": [
    "callback = tf.keras.callbacks.EarlyStopping(monitor = \"recall\", patience=10, mode=\"max\")"
   ]
  },
  {
   "cell_type": "code",
   "execution_count": 127,
   "metadata": {},
   "outputs": [],
   "source": [
    "ann.add(tf.keras.layers.Dense(512, input_shape=(X_train.shape[1], ), activation='relu'))\n",
    "ann.add(tf.keras.layers.Dense(512, activation=\"relu\"))\n",
    "ann.add(tf.keras.layers.Dropout(0.5))\n",
    "ann.add(tf.keras.layers.Dense(512, activation='relu'))\n",
    "ann.add(tf.keras.layers.Dropout(0.5))\n",
    "ann.add(tf.keras.layers.Dense(1, activation='sigmoid'))"
   ]
  },
  {
   "cell_type": "code",
   "execution_count": 128,
   "metadata": {},
   "outputs": [],
   "source": [
    "ann.compile(Adam(lr=0.01), loss = \"binary_crossentropy\", metrics=metrics)"
   ]
  },
  {
   "cell_type": "code",
   "execution_count": 129,
   "metadata": {},
   "outputs": [
    {
     "name": "stdout",
     "output_type": "stream",
     "text": [
      "Model: \"sequential\"\n",
      "_________________________________________________________________\n",
      "Layer (type)                 Output Shape              Param #   \n",
      "=================================================================\n",
      "dense (Dense)                (None, 512)               9728      \n",
      "_________________________________________________________________\n",
      "dense_1 (Dense)              (None, 512)               262656    \n",
      "_________________________________________________________________\n",
      "dropout (Dropout)            (None, 512)               0         \n",
      "_________________________________________________________________\n",
      "dense_2 (Dense)              (None, 512)               262656    \n",
      "_________________________________________________________________\n",
      "dropout_1 (Dropout)          (None, 512)               0         \n",
      "_________________________________________________________________\n",
      "dense_3 (Dense)              (None, 1)                 513       \n",
      "=================================================================\n",
      "Total params: 535,553\n",
      "Trainable params: 535,553\n",
      "Non-trainable params: 0\n",
      "_________________________________________________________________\n"
     ]
    }
   ],
   "source": [
    "ann.summary()"
   ]
  },
  {
   "cell_type": "code",
   "execution_count": 130,
   "metadata": {
    "scrolled": false
   },
   "outputs": [
    {
     "name": "stdout",
     "output_type": "stream",
     "text": [
      "Epoch 1/30\n",
      "1/1 [==============================] - 0s 2ms/step - loss: 0.9897 - fn: 318.0000 - fp: 60.0000 - tn: 344.0000 - tp: 65.0000 - precision: 0.5200 - recall: 0.1697 - Accuracy: 0.0000e+00\n",
      "Epoch 2/30\n",
      "1/1 [==============================] - 0s 2ms/step - loss: 3.1831 - fn: 0.0000e+00 - fp: 404.0000 - tn: 0.0000e+00 - tp: 383.0000 - precision: 0.4867 - recall: 1.0000 - Accuracy: 0.4282\n",
      "Epoch 3/30\n",
      "1/1 [==============================] - 0s 2ms/step - loss: 1.2197 - fn: 159.0000 - fp: 0.0000e+00 - tn: 404.0000 - tp: 224.0000 - precision: 1.0000 - recall: 0.5849 - Accuracy: 0.0407\n",
      "Epoch 4/30\n",
      "1/1 [==============================] - 0s 3ms/step - loss: 0.2852 - fn: 40.0000 - fp: 24.0000 - tn: 380.0000 - tp: 343.0000 - precision: 0.9346 - recall: 0.8956 - Accuracy: 0.3634\n",
      "Epoch 5/30\n",
      "1/1 [==============================] - 0s 2ms/step - loss: 0.2754 - fn: 20.0000 - fp: 48.0000 - tn: 356.0000 - tp: 363.0000 - precision: 0.8832 - recall: 0.9478 - Accuracy: 0.3964\n",
      "Epoch 6/30\n",
      "1/1 [==============================] - 0s 3ms/step - loss: 0.3426 - fn: 13.0000 - fp: 61.0000 - tn: 343.0000 - tp: 370.0000 - precision: 0.8585 - recall: 0.9661 - Accuracy: 0.4079\n",
      "Epoch 7/30\n",
      "1/1 [==============================] - 0s 3ms/step - loss: 0.2775 - fn: 16.0000 - fp: 46.0000 - tn: 358.0000 - tp: 367.0000 - precision: 0.8886 - recall: 0.9582 - Accuracy: 0.4066\n",
      "Epoch 8/30\n",
      "1/1 [==============================] - 0s 2ms/step - loss: 0.2055 - fn: 21.0000 - fp: 30.0000 - tn: 374.0000 - tp: 362.0000 - precision: 0.9235 - recall: 0.9452 - Accuracy: 0.4091\n",
      "Epoch 9/30\n",
      "1/1 [==============================] - 0s 3ms/step - loss: 0.1489 - fn: 23.0000 - fp: 10.0000 - tn: 394.0000 - tp: 360.0000 - precision: 0.9730 - recall: 0.9399 - Accuracy: 0.4066\n",
      "Epoch 10/30\n",
      "1/1 [==============================] - 0s 2ms/step - loss: 0.1388 - fn: 28.0000 - fp: 7.0000 - tn: 397.0000 - tp: 355.0000 - precision: 0.9807 - recall: 0.9269 - Accuracy: 0.4079\n",
      "Epoch 11/30\n",
      "1/1 [==============================] - 0s 2ms/step - loss: 0.1416 - fn: 29.0000 - fp: 4.0000 - tn: 400.0000 - tp: 354.0000 - precision: 0.9888 - recall: 0.9243 - Accuracy: 0.4079\n",
      "Epoch 12/30\n",
      "1/1 [==============================] - 0s 999us/step - loss: 0.1263 - fn: 30.0000 - fp: 1.0000 - tn: 403.0000 - tp: 353.0000 - precision: 0.9972 - recall: 0.9217 - Accuracy: 0.4079\n",
      "Epoch 13/30\n",
      "1/1 [==============================] - 0s 997us/step - loss: 0.1204 - fn: 31.0000 - fp: 2.0000 - tn: 402.0000 - tp: 352.0000 - precision: 0.9944 - recall: 0.9191 - Accuracy: 0.4079\n",
      "Epoch 14/30\n",
      "1/1 [==============================] - 0s 3ms/step - loss: 0.1103 - fn: 30.0000 - fp: 2.0000 - tn: 402.0000 - tp: 353.0000 - precision: 0.9944 - recall: 0.9217 - Accuracy: 0.4053\n",
      "Epoch 15/30\n",
      "1/1 [==============================] - 0s 3ms/step - loss: 0.1036 - fn: 27.0000 - fp: 3.0000 - tn: 401.0000 - tp: 356.0000 - precision: 0.9916 - recall: 0.9295 - Accuracy: 0.4066\n",
      "Epoch 16/30\n",
      "1/1 [==============================] - 0s 2ms/step - loss: 0.1060 - fn: 29.0000 - fp: 3.0000 - tn: 401.0000 - tp: 354.0000 - precision: 0.9916 - recall: 0.9243 - Accuracy: 0.4066\n",
      "Epoch 17/30\n",
      "1/1 [==============================] - 0s 2ms/step - loss: 0.1056 - fn: 25.0000 - fp: 3.0000 - tn: 401.0000 - tp: 358.0000 - precision: 0.9917 - recall: 0.9347 - Accuracy: 0.4079\n",
      "Epoch 18/30\n",
      "1/1 [==============================] - 0s 2ms/step - loss: 0.1028 - fn: 26.0000 - fp: 1.0000 - tn: 403.0000 - tp: 357.0000 - precision: 0.9972 - recall: 0.9321 - Accuracy: 0.4053\n",
      "Epoch 19/30\n",
      "1/1 [==============================] - 0s 2ms/step - loss: 0.0982 - fn: 28.0000 - fp: 1.0000 - tn: 403.0000 - tp: 355.0000 - precision: 0.9972 - recall: 0.9269 - Accuracy: 0.4079\n",
      "Epoch 20/30\n",
      "1/1 [==============================] - 0s 997us/step - loss: 0.0960 - fn: 26.0000 - fp: 2.0000 - tn: 402.0000 - tp: 357.0000 - precision: 0.9944 - recall: 0.9321 - Accuracy: 0.4079\n",
      "Epoch 21/30\n",
      "1/1 [==============================] - 0s 3ms/step - loss: 0.0912 - fn: 24.0000 - fp: 0.0000e+00 - tn: 404.0000 - tp: 359.0000 - precision: 1.0000 - recall: 0.9373 - Accuracy: 0.4053\n",
      "Epoch 22/30\n",
      "1/1 [==============================] - 0s 2ms/step - loss: 0.0912 - fn: 24.0000 - fp: 0.0000e+00 - tn: 404.0000 - tp: 359.0000 - precision: 1.0000 - recall: 0.9373 - Accuracy: 0.4053\n",
      "Epoch 23/30\n",
      "1/1 [==============================] - ETA: 0s - loss: 0.0849 - fn: 22.0000 - fp: 0.0000e+00 - tn: 404.0000 - tp: 361.0000 - precision: 1.0000 - recall: 0.9426 - Accuracy: 0.40 - 0s 2ms/step - loss: 0.0849 - fn: 22.0000 - fp: 0.0000e+00 - tn: 404.0000 - tp: 361.0000 - precision: 1.0000 - recall: 0.9426 - Accuracy: 0.4079\n",
      "Epoch 24/30\n",
      "1/1 [==============================] - 0s 5ms/step - loss: 0.0813 - fn: 22.0000 - fp: 1.0000 - tn: 403.0000 - tp: 361.0000 - precision: 0.9972 - recall: 0.9426 - Accuracy: 0.4104\n",
      "Epoch 25/30\n",
      "1/1 [==============================] - 0s 2ms/step - loss: 0.0799 - fn: 21.0000 - fp: 2.0000 - tn: 402.0000 - tp: 362.0000 - precision: 0.9945 - recall: 0.9452 - Accuracy: 0.4066\n",
      "Epoch 26/30\n",
      "1/1 [==============================] - 0s 2ms/step - loss: 0.0720 - fn: 21.0000 - fp: 1.0000 - tn: 403.0000 - tp: 362.0000 - precision: 0.9972 - recall: 0.9452 - Accuracy: 0.4130\n",
      "Epoch 27/30\n",
      "1/1 [==============================] - 0s 2ms/step - loss: 0.0715 - fn: 17.0000 - fp: 2.0000 - tn: 402.0000 - tp: 366.0000 - precision: 0.9946 - recall: 0.9556 - Accuracy: 0.4104\n",
      "Epoch 28/30\n",
      "1/1 [==============================] - 0s 2ms/step - loss: 0.0692 - fn: 16.0000 - fp: 2.0000 - tn: 402.0000 - tp: 367.0000 - precision: 0.9946 - recall: 0.9582 - Accuracy: 0.4142\n",
      "Epoch 29/30\n",
      "1/1 [==============================] - 0s 2ms/step - loss: 0.0702 - fn: 15.0000 - fp: 3.0000 - tn: 401.0000 - tp: 368.0000 - precision: 0.9919 - recall: 0.9608 - Accuracy: 0.4155\n",
      "Epoch 30/30\n",
      "1/1 [==============================] - 0s 2ms/step - loss: 0.0664 - fn: 13.0000 - fp: 3.0000 - tn: 401.0000 - tp: 370.0000 - precision: 0.9920 - recall: 0.9661 - Accuracy: 0.4219\n"
     ]
    }
   ],
   "source": [
    "startann = timeit.default_timer()\n",
    "ann.fit(X_train, y_train, epochs=30, batch_size=2048, class_weight = class_weight)\n",
    "endan = timeit.default_timer()"
   ]
  },
  {
   "cell_type": "code",
   "execution_count": 131,
   "metadata": {
    "collapsed": true
   },
   "outputs": [
    {
     "data": {
      "text/plain": [
       "array([[1.00000000e+00],\n",
       "       [1.00000000e+00],\n",
       "       [1.91405118e-01],\n",
       "       [1.00000000e+00],\n",
       "       [1.00000000e+00],\n",
       "       [1.00000000e+00],\n",
       "       [1.56256557e-03],\n",
       "       [1.05446577e-03],\n",
       "       [1.10697385e-06],\n",
       "       [5.75563014e-02],\n",
       "       [1.00000000e+00],\n",
       "       [3.02967429e-03],\n",
       "       [1.00000000e+00],\n",
       "       [1.00000000e+00],\n",
       "       [2.17422843e-03],\n",
       "       [1.00000000e+00],\n",
       "       [1.00000000e+00],\n",
       "       [2.47004628e-03],\n",
       "       [1.00000000e+00],\n",
       "       [1.00000000e+00],\n",
       "       [1.00000000e+00],\n",
       "       [1.00000000e+00],\n",
       "       [1.00000000e+00],\n",
       "       [9.81557548e-01],\n",
       "       [1.00000000e+00],\n",
       "       [1.00000000e+00],\n",
       "       [3.55887933e-05],\n",
       "       [1.00000000e+00],\n",
       "       [1.00000000e+00],\n",
       "       [7.55342305e-01],\n",
       "       [6.41208317e-05],\n",
       "       [6.24626875e-04],\n",
       "       [1.24888038e-05],\n",
       "       [1.86544478e-01],\n",
       "       [1.00000000e+00],\n",
       "       [3.84747982e-04],\n",
       "       [1.00000000e+00],\n",
       "       [1.00000000e+00],\n",
       "       [1.00000000e+00],\n",
       "       [4.94758785e-02],\n",
       "       [1.00000000e+00],\n",
       "       [1.00000000e+00],\n",
       "       [2.11437643e-02],\n",
       "       [1.00000000e+00],\n",
       "       [4.17972270e-14],\n",
       "       [6.30764663e-02],\n",
       "       [3.24669480e-02],\n",
       "       [3.22112143e-02],\n",
       "       [9.37536981e-07],\n",
       "       [3.28126550e-03],\n",
       "       [9.96390455e-08],\n",
       "       [1.00000000e+00],\n",
       "       [1.00000000e+00],\n",
       "       [4.18901443e-04],\n",
       "       [9.99422252e-01],\n",
       "       [1.00000000e+00],\n",
       "       [1.00000000e+00],\n",
       "       [1.00000000e+00],\n",
       "       [1.00000000e+00],\n",
       "       [1.00000000e+00],\n",
       "       [1.78748369e-03],\n",
       "       [3.20897400e-01],\n",
       "       [4.16666269e-03],\n",
       "       [2.25473285e-01],\n",
       "       [1.00000000e+00],\n",
       "       [1.00000000e+00],\n",
       "       [1.28697548e-05],\n",
       "       [6.02930784e-04],\n",
       "       [9.87709045e-01],\n",
       "       [1.00000000e+00],\n",
       "       [5.73864579e-03],\n",
       "       [1.53931669e-05],\n",
       "       [1.00000000e+00],\n",
       "       [1.00000000e+00],\n",
       "       [1.00000000e+00],\n",
       "       [1.00000000e+00],\n",
       "       [7.73280859e-04],\n",
       "       [9.96842861e-01],\n",
       "       [1.07868493e-01],\n",
       "       [1.00000000e+00],\n",
       "       [1.00000000e+00],\n",
       "       [1.00000000e+00],\n",
       "       [1.00000000e+00],\n",
       "       [4.46363047e-05],\n",
       "       [6.32989407e-03],\n",
       "       [1.00000000e+00],\n",
       "       [1.00000000e+00],\n",
       "       [1.31918182e-06],\n",
       "       [1.00000000e+00],\n",
       "       [1.00000000e+00],\n",
       "       [9.64793563e-03],\n",
       "       [1.00000000e+00],\n",
       "       [7.76687562e-02],\n",
       "       [1.00000000e+00],\n",
       "       [5.22180617e-01],\n",
       "       [1.90258970e-06],\n",
       "       [3.11195087e-08],\n",
       "       [1.00000000e+00],\n",
       "       [9.84668851e-01],\n",
       "       [1.00000000e+00],\n",
       "       [2.33638980e-06],\n",
       "       [4.43856652e-06],\n",
       "       [1.00000000e+00],\n",
       "       [1.00000000e+00],\n",
       "       [3.39981914e-03],\n",
       "       [6.23047352e-04],\n",
       "       [1.00000000e+00],\n",
       "       [2.56479383e-02],\n",
       "       [1.88803673e-03],\n",
       "       [1.00000000e+00],\n",
       "       [1.00000000e+00],\n",
       "       [7.88956881e-04],\n",
       "       [1.00000000e+00],\n",
       "       [1.00000000e+00],\n",
       "       [6.52730465e-03],\n",
       "       [2.35476196e-02],\n",
       "       [1.35139525e-02],\n",
       "       [2.17005610e-03],\n",
       "       [1.15812381e-05],\n",
       "       [1.12554922e-07],\n",
       "       [1.00000000e+00],\n",
       "       [9.72398400e-01],\n",
       "       [1.00000000e+00],\n",
       "       [1.00000000e+00],\n",
       "       [8.44717026e-04],\n",
       "       [1.00000000e+00],\n",
       "       [1.00000000e+00],\n",
       "       [1.27487272e-01],\n",
       "       [1.00000000e+00],\n",
       "       [5.59564531e-02],\n",
       "       [1.00000000e+00],\n",
       "       [1.00000000e+00],\n",
       "       [1.35145754e-01],\n",
       "       [1.00000000e+00],\n",
       "       [6.14282072e-01],\n",
       "       [1.00000000e+00],\n",
       "       [6.48417175e-02],\n",
       "       [1.00000000e+00],\n",
       "       [1.00000000e+00],\n",
       "       [1.00000000e+00],\n",
       "       [2.93122139e-06],\n",
       "       [1.00000000e+00],\n",
       "       [3.46841812e-02],\n",
       "       [1.00000000e+00],\n",
       "       [1.00000000e+00],\n",
       "       [4.30715084e-03],\n",
       "       [1.00000000e+00],\n",
       "       [2.26058662e-01],\n",
       "       [9.99792218e-01],\n",
       "       [2.08782554e-02],\n",
       "       [5.74380159e-04],\n",
       "       [1.00000000e+00],\n",
       "       [1.00000000e+00],\n",
       "       [1.00000000e+00],\n",
       "       [3.49938869e-04],\n",
       "       [3.48935366e-01],\n",
       "       [1.00000000e+00],\n",
       "       [1.00000000e+00],\n",
       "       [4.45527881e-01],\n",
       "       [1.00000000e+00],\n",
       "       [1.00000000e+00],\n",
       "       [1.00000000e+00],\n",
       "       [4.08439934e-02],\n",
       "       [3.30388546e-04],\n",
       "       [2.28409380e-01],\n",
       "       [1.00000000e+00],\n",
       "       [1.00000000e+00],\n",
       "       [1.00000000e+00],\n",
       "       [9.01508331e-03],\n",
       "       [1.65104866e-04],\n",
       "       [1.00000000e+00],\n",
       "       [1.00000000e+00],\n",
       "       [1.78174376e-02],\n",
       "       [1.00000000e+00],\n",
       "       [1.00000000e+00],\n",
       "       [5.82214379e-05],\n",
       "       [6.71014786e-05],\n",
       "       [9.78467870e-06],\n",
       "       [1.00000000e+00],\n",
       "       [1.00000000e+00],\n",
       "       [2.45458066e-01],\n",
       "       [3.04403007e-01],\n",
       "       [1.00000000e+00],\n",
       "       [1.00000000e+00],\n",
       "       [9.99606371e-01],\n",
       "       [5.41895211e-01],\n",
       "       [2.66173482e-03],\n",
       "       [6.14459574e-01],\n",
       "       [1.83343887e-04],\n",
       "       [2.62886286e-04],\n",
       "       [1.00000000e+00],\n",
       "       [6.39238954e-03],\n",
       "       [5.34936786e-03],\n",
       "       [1.00000000e+00],\n",
       "       [1.00000000e+00],\n",
       "       [1.00000000e+00],\n",
       "       [1.51718277e-05]], dtype=float32)"
      ]
     },
     "execution_count": 131,
     "metadata": {},
     "output_type": "execute_result"
    }
   ],
   "source": [
    "y_pred_ann = ann.predict(X_test)\n",
    "\n",
    "y_pred_ann"
   ]
  },
  {
   "cell_type": "code",
   "execution_count": 132,
   "metadata": {},
   "outputs": [],
   "source": [
    "yfinal_pred = y_pred_ann.ravel().astype('int64')\n",
    "# yfinal_pred = np.delete(y_pred_ann, 1, 1).ravel().astype('int64')"
   ]
  },
  {
   "cell_type": "code",
   "execution_count": 133,
   "metadata": {},
   "outputs": [
    {
     "data": {
      "text/plain": [
       "array([1, 1, 0, 1, 1, 1, 0, 0, 0, 0, 1, 0, 1, 1, 0, 1, 1, 0, 1, 1, 1, 1,\n",
       "       1, 0, 1, 1, 0, 1, 1, 0, 0, 0, 0, 0, 1, 0, 1, 1, 1, 0, 1, 1, 0, 1,\n",
       "       0, 0, 0, 0, 0, 0, 0, 1, 1, 0, 0, 1, 1, 1, 1, 1, 0, 0, 0, 0, 1, 1,\n",
       "       0, 0, 0, 1, 0, 0, 1, 1, 1, 1, 0, 0, 0, 1, 1, 1, 1, 0, 0, 1, 1, 0,\n",
       "       1, 1, 0, 1, 0, 1, 0, 0, 0, 1, 0, 1, 0, 0, 1, 1, 0, 0, 1, 0, 0, 1,\n",
       "       1, 0, 1, 1, 0, 0, 0, 0, 0, 0, 1, 0, 1, 1, 0, 1, 1, 0, 1, 0, 1, 1,\n",
       "       0, 1, 0, 1, 0, 1, 1, 1, 0, 1, 0, 1, 1, 0, 1, 0, 0, 0, 0, 1, 1, 1,\n",
       "       0, 0, 1, 1, 0, 1, 1, 1, 0, 0, 0, 1, 1, 1, 0, 0, 1, 1, 0, 1, 1, 0,\n",
       "       0, 0, 1, 1, 0, 0, 1, 1, 0, 0, 0, 0, 0, 0, 1, 0, 0, 1, 1, 1, 0],\n",
       "      dtype=int64)"
      ]
     },
     "execution_count": 133,
     "metadata": {},
     "output_type": "execute_result"
    }
   ],
   "source": [
    "yfinal_pred"
   ]
  },
  {
   "cell_type": "code",
   "execution_count": 134,
   "metadata": {},
   "outputs": [
    {
     "name": "stdout",
     "output_type": "stream",
     "text": [
      "Training Time:  3.0616273999999635\n",
      "recall 89.90825688073394\n",
      "precision 98.98989898989899\n",
      "accuracy 93.90862944162437\n",
      "f1 94.23076923076924\n",
      "mcc 0.8826721665214399\n"
     ]
    }
   ],
   "source": [
    "cm_ann = confusion_matrix(y_test, yfinal_pred)\n",
    "\n",
    "metrics_ann = calc_metrics(cm_ann)\n",
    "\n",
    "print(\"Training Time: \", endan - startann)\n",
    "for k,v in metrics_ann.items():\n",
    "    print(k,v)"
   ]
  },
  {
   "cell_type": "code",
   "execution_count": 135,
   "metadata": {
    "scrolled": true
   },
   "outputs": [
    {
     "data": {
      "image/png": "[encoded data removed]",
      "text/plain": [
       "<Figure size 576x432 with 2 Axes>"
      ]
     },
     "metadata": {},
     "output_type": "display_data"
    }
   ],
   "source": [
    "name = \"ANN\"\n",
    "plot_confusion_matrix(cm_ann, name)\n"
   ]
  },
  {
   "cell_type": "code",
   "execution_count": 158,
   "metadata": {},
   "outputs": [
    {
     "ename": "NameError",
     "evalue": "name 'endann' is not defined",
     "output_type": "error",
     "traceback": [
      "\u001b[1;31m---------------------------------------------------------------------------\u001b[0m",
      "\u001b[1;31mNameError\u001b[0m                                 Traceback (most recent call last)",
      "\u001b[1;32m<ipython-input-158-001fa779a77b>\u001b[0m in \u001b[0;36m<module>\u001b[1;34m\u001b[0m\n\u001b[1;32m----> 1\u001b[1;33m \u001b[0mmetrics_ann\u001b[0m\u001b[1;33m[\u001b[0m\u001b[1;34m'time'\u001b[0m\u001b[1;33m]\u001b[0m \u001b[1;33m=\u001b[0m \u001b[0mendann\u001b[0m \u001b[1;33m-\u001b[0m \u001b[0mstartann\u001b[0m\u001b[1;33m\u001b[0m\u001b[1;33m\u001b[0m\u001b[0m\n\u001b[0m",
      "\u001b[1;31mNameError\u001b[0m: name 'endann' is not defined"
     ]
    }
   ],
   "source": [
    "metrics_ann['time'] = endann - startann\n"
   ]
  },
  {
   "cell_type": "markdown",
   "metadata": {},
   "source": [
    "# Final Scores"
   ]
  },
  {
   "cell_type": "code",
   "execution_count": 139,
   "metadata": {},
   "outputs": [
    {
     "data": {
      "text/html": [
       "<div>\n",
       "<style scoped>\n",
       "    .dataframe tbody tr th:only-of-type {\n",
       "        vertical-align: middle;\n",
       "    }\n",
       "\n",
       "    .dataframe tbody tr th {\n",
       "        vertical-align: top;\n",
       "    }\n",
       "\n",
       "    .dataframe thead th {\n",
       "        text-align: right;\n",
       "    }\n",
       "</style>\n",
       "<table border=\"1\" class=\"dataframe\">\n",
       "  <thead>\n",
       "    <tr style=\"text-align: right;\">\n",
       "      <th></th>\n",
       "      <th>recall</th>\n",
       "      <th>precision</th>\n",
       "      <th>accuracy</th>\n",
       "      <th>f1</th>\n",
       "      <th>mcc</th>\n",
       "      <th>pr_auc</th>\n",
       "    </tr>\n",
       "  </thead>\n",
       "  <tbody>\n",
       "    <tr>\n",
       "      <th>LR</th>\n",
       "      <td>89.908257</td>\n",
       "      <td>94.230769</td>\n",
       "      <td>91.370558</td>\n",
       "      <td>92.018779</td>\n",
       "      <td>0.827457</td>\n",
       "      <td>0.983467</td>\n",
       "    </tr>\n",
       "    <tr>\n",
       "      <th>KNN</th>\n",
       "      <td>93.577982</td>\n",
       "      <td>94.444444</td>\n",
       "      <td>93.401015</td>\n",
       "      <td>94.009217</td>\n",
       "      <td>0.866695</td>\n",
       "      <td>NaN</td>\n",
       "    </tr>\n",
       "    <tr>\n",
       "      <th>DT</th>\n",
       "      <td>88.073394</td>\n",
       "      <td>92.307692</td>\n",
       "      <td>89.340102</td>\n",
       "      <td>90.140845</td>\n",
       "      <td>0.786552</td>\n",
       "      <td>NaN</td>\n",
       "    </tr>\n",
       "    <tr>\n",
       "      <th>RF</th>\n",
       "      <td>91.743119</td>\n",
       "      <td>95.238095</td>\n",
       "      <td>92.893401</td>\n",
       "      <td>93.457944</td>\n",
       "      <td>0.857579</td>\n",
       "      <td>NaN</td>\n",
       "    </tr>\n",
       "    <tr>\n",
       "      <th>NB</th>\n",
       "      <td>87.155963</td>\n",
       "      <td>98.958333</td>\n",
       "      <td>92.385787</td>\n",
       "      <td>92.682927</td>\n",
       "      <td>0.855570</td>\n",
       "      <td>NaN</td>\n",
       "    </tr>\n",
       "    <tr>\n",
       "      <th>AdaBoost</th>\n",
       "      <td>95.412844</td>\n",
       "      <td>72.727273</td>\n",
       "      <td>77.664975</td>\n",
       "      <td>82.539683</td>\n",
       "      <td>0.569463</td>\n",
       "      <td>NaN</td>\n",
       "    </tr>\n",
       "    <tr>\n",
       "      <th>Gradient Boost</th>\n",
       "      <td>92.660550</td>\n",
       "      <td>94.392523</td>\n",
       "      <td>92.893401</td>\n",
       "      <td>93.518519</td>\n",
       "      <td>0.856728</td>\n",
       "      <td>NaN</td>\n",
       "    </tr>\n",
       "    <tr>\n",
       "      <th>XG Boost</th>\n",
       "      <td>92.660550</td>\n",
       "      <td>93.518519</td>\n",
       "      <td>92.385787</td>\n",
       "      <td>93.087558</td>\n",
       "      <td>0.846178</td>\n",
       "      <td>NaN</td>\n",
       "    </tr>\n",
       "    <tr>\n",
       "      <th>One Class SVM</th>\n",
       "      <td>91.743119</td>\n",
       "      <td>89.285714</td>\n",
       "      <td>89.340102</td>\n",
       "      <td>90.497738</td>\n",
       "      <td>0.784016</td>\n",
       "      <td>NaN</td>\n",
       "    </tr>\n",
       "    <tr>\n",
       "      <th>ANN</th>\n",
       "      <td>89.908257</td>\n",
       "      <td>98.989899</td>\n",
       "      <td>93.908629</td>\n",
       "      <td>94.230769</td>\n",
       "      <td>0.882672</td>\n",
       "      <td>NaN</td>\n",
       "    </tr>\n",
       "  </tbody>\n",
       "</table>\n",
       "</div>"
      ],
      "text/plain": [
       "                   recall  precision   accuracy         f1       mcc    pr_auc\n",
       "LR              89.908257  94.230769  91.370558  92.018779  0.827457  0.983467\n",
       "KNN             93.577982  94.444444  93.401015  94.009217  0.866695       NaN\n",
       "DT              88.073394  92.307692  89.340102  90.140845  0.786552       NaN\n",
       "RF              91.743119  95.238095  92.893401  93.457944  0.857579       NaN\n",
       "NB              87.155963  98.958333  92.385787  92.682927  0.855570       NaN\n",
       "AdaBoost        95.412844  72.727273  77.664975  82.539683  0.569463       NaN\n",
       "Gradient Boost  92.660550  94.392523  92.893401  93.518519  0.856728       NaN\n",
       "XG Boost        92.660550  93.518519  92.385787  93.087558  0.846178       NaN\n",
       "One Class SVM   91.743119  89.285714  89.340102  90.497738  0.784016       NaN\n",
       "ANN             89.908257  98.989899  93.908629  94.230769  0.882672       NaN"
      ]
     },
     "execution_count": 139,
     "metadata": {},
     "output_type": "execute_result"
    }
   ],
   "source": [
    "pd.DataFrame([metrics_lr, metrics_knn, metrics_dt, metrics_rfc, metrics_nb, metrics_ada, metrics_gb, metrics_xgb, \n",
    "              metrics_svc, metrics_ann] ,index = ['LR','KNN','DT','RF','NB','AdaBoost','Gradient Boost','XG Boost',\n",
    "                                                  'One Class SVM', 'ANN'])"
   ]
  },
  {
   "cell_type": "code",
   "execution_count": null,
   "metadata": {},
   "outputs": [],
   "source": []
  }
 ],
 "metadata": {
  "kernelspec": {
   "display_name": "Python 3",
   "language": "python",
   "name": "python3"
  },
  "language_info": {
   "codemirror_mode": {
    "name": "ipython",
    "version": 3
   },
   "file_extension": ".py",
   "mimetype": "text/x-python",
   "name": "python",
   "nbconvert_exporter": "python",
   "pygments_lexer": "ipython3",
   "version": "3.8.8"
  }
 },
 "nbformat": 4,
 "nbformat_minor": 4
}
